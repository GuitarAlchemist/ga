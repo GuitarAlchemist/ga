{
  "cells": [
    {
      "cell_type": "code",
      "execution_count": 1,
      "metadata": {
        "dotnet_interactive": {
          "language": "csharp"
        },
        "vscode": {
          "languageId": "dotnet-interactive.csharp"
        }
      },
      "outputs": [
        {
          "data": {
            "text/html": [
              "<div><div></div><div></div><div><strong>Installed Packages</strong><ul><li><span>IPlot, 0.0.1</span></li><li><span>IPlot.Interactive, 0.0.1</span></li></ul></div></div>"
            ]
          },
          "metadata": {},
          "output_type": "display_data"
        },
        {
          "data": {
            "text/markdown": [
              "Loading extensions from `IPlot.Interactive.dll`"
            ]
          },
          "metadata": {},
          "output_type": "display_data"
        },
        {
          "ename": "Error",
          "evalue": "Failed to load kernel extension \"FormatterKernelExtension\" from assembly C:\\Users\\steph\\.nuget\\packages\\iplot.interactive\\0.0.1\\interactive-extensions\\dotnet\\IPlot.Interactive.dll",
          "output_type": "error",
          "traceback": [
            "Failed to load kernel extension \"FormatterKernelExtension\" from assembly C:\\Users\\steph\\.nuget\\packages\\iplot.interactive\\0.0.1\\interactive-extensions\\dotnet\\IPlot.Interactive.dll"
          ]
        },
        {
          "ename": "Error",
          "evalue": "Microsoft.DotNet.Interactive.KernelExtensionLoadException: Failure loading Kernel Extension\r\n ---> System.MissingMethodException: Method not found: 'Microsoft.DotNet.Interactive.DisplayedValue Microsoft.DotNet.Interactive.KernelInvocationContextExtensions.Display(Microsoft.DotNet.Interactive.KernelInvocationContext, System.Object, System.String)'.\r\n   at IPlot.Interactive.FormatterKernelExtension.Microsoft.DotNet.Interactive.IKernelExtension.OnLoadAsync(Kernel _arg1)\r\n   at Microsoft.DotNet.Interactive.Extensions.AssemblyBasedExtensionLoader.LoadFromAssembly(FileInfo assemblyFile, Kernel kernel, KernelInvocationContext context) in D:\\a\\_work\\1\\s\\src\\Microsoft.DotNet.Interactive\\Extensions\\AssemblyBasedExtensionLoader.cs:line 132\r\n   --- End of inner exception stack trace ---",
          "output_type": "error",
          "traceback": [
            "Microsoft.DotNet.Interactive.KernelExtensionLoadException: Failure loading Kernel Extension\r\n",
            " ---> System.MissingMethodException: Method not found: 'Microsoft.DotNet.Interactive.DisplayedValue Microsoft.DotNet.Interactive.KernelInvocationContextExtensions.Display(Microsoft.DotNet.Interactive.KernelInvocationContext, System.Object, System.String)'.\r\n",
            "   at IPlot.Interactive.FormatterKernelExtension.Microsoft.DotNet.Interactive.IKernelExtension.OnLoadAsync(Kernel _arg1)\r\n",
            "   at Microsoft.DotNet.Interactive.Extensions.AssemblyBasedExtensionLoader.LoadFromAssembly(FileInfo assemblyFile, Kernel kernel, KernelInvocationContext context) in D:\\a\\_work\\1\\s\\src\\Microsoft.DotNet.Interactive\\Extensions\\AssemblyBasedExtensionLoader.cs:line 132\r\n",
            "   --- End of inner exception stack trace ---"
          ]
        }
      ],
      "source": [
        "#r \"nuget: IPlot, 0.0.1\"\n",
        "#r \"nuget: IPlot.Interactive, 0.0.1\"\n",
        "\n",
        "open IPlot.HighCharts\n",
        "\n",
        "[1.2;3.1;0.4]\n",
        "|> Chart.Line"
      ]
    }
  ],
  "metadata": {
    "kernelspec": {
      "display_name": ".NET (C#)",
      "language": "C#",
      "name": ".net-csharp"
    },
    "language_info": {
      "file_extension": ".cs",
      "mimetype": "text/x-csharp",
      "name": "C#",
      "pygments_lexer": "csharp",
      "version": "8.0"
    }
  },
  "nbformat": 4,
  "nbformat_minor": 4
}
