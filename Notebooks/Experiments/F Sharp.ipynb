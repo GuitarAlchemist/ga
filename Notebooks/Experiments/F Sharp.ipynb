{
  "cells": [
    {
      "cell_type": "code",
      "execution_count": 1,
      "metadata": {
        "dotnet_interactive": {
          "language": "csharp"
        }
      },
      "source": [
        "#!fsharp\n",
        "\n",
        "type Person =\n",
        "    { Name: string\n",
        "      Age: int }\n",
        "\n",
        "let alice = { Name = \"Alice\"\n",
        "              Age = 33 }\n",
        "\n",
        "alice"
      ],
      "outputs": [
        {
          "output_type": "execute_result",
          "data": {
            "text/html": "<table><thead><tr><th>Name</th><th>Age</th></tr></thead><tbody><tr><td><div class=\"dni-plaintext\">Alice</div></td><td><div class=\"dni-plaintext\">33</div></td></tr></tbody></table>"
          },
          "execution_count": 1,
          "metadata": {}
        }
      ]
    }
  ],
  "metadata": {
    "kernelspec": {
      "display_name": ".NET (C#)",
      "language": "C#",
      "name": ".net-csharp"
    },
    "language_info": {
      "file_extension": ".cs",
      "mimetype": "text/x-csharp",
      "name": "C#",
      "pygments_lexer": "csharp",
      "version": "8.0"
    }
  },
  "nbformat": 4,
  "nbformat_minor": 4
}