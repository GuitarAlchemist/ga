{
  "cells": [
    {
      "cell_type": "code",
      "execution_count": 1,
      "metadata": {
        "dotnet_interactive": {
          "language": "csharp"
        }
      },
      "source": [
        "<div id=\"myGrid\" style=\"height: 200px; width: 600px\" class=\"ag-theme-alpine\">\t\n",
        "</div>\n",
        "\n",
        "<script>\n",
        "require.config({\n",
        "  paths: {\n",
        "\t\t'agGrid': 'https://cdnjs.cloudflare.com/ajax/libs/ag-grid/25.1.0/ag-grid-community.amd.min.js'\n",
        "  }\n",
        "});\n",
        "\n",
        "require(['agGrid'], function(agGrid) {\n",
        "\t\t  console.log('Hello1');\n",
        "\t\n",
        "      var columnDefs = [\n",
        "        { field: \"make\" },\n",
        "        { field: \"model\" },\n",
        "        { field: \"price\" }\n",
        "    ];\n",
        "\n",
        "    // specify the data\n",
        "    var rowData = [\n",
        "        { make: \"Toyota\", model: \"Celica\", price: 35000 },\n",
        "        { make: \"Ford\", model: \"Mondeo\", price: 32000 },\n",
        "        { make: \"Porsche\", model: \"Boxter\", price: 72000 }\n",
        "    ];\n",
        "\n",
        "    // let the grid know which columns and what data to use\n",
        "    var gridOptions = {\n",
        "        columnDefs: columnDefs,\n",
        "        rowData: rowData\n",
        "    };\n",
        "\n",
        "    var gridDiv = document.querySelector('#myGrid');\n",
        "    new agGrid.Grid(gridDiv, gridOptions);\n",
        "});\n",
        "\t\n",
        "</script>"
      ],
      "outputs": [
        {
          "output_type": "error",
          "ename": "",
          "evalue": "System.OperationCanceledException: Command :SubmitCode: #!js\r\ndtreeRequire = interactive.configureRequire( ... cancelled.",
          "traceback": [
            null
          ]
        }
      ]
    }
  ],
  "metadata": {
    "kernelspec": {
      "display_name": ".NET (C#)",
      "language": "C#",
      "name": ".net-csharp"
    },
    "language_info": {
      "file_extension": ".cs",
      "mimetype": "text/x-csharp",
      "name": "C#",
      "pygments_lexer": "csharp",
      "version": "8.0"
    }
  },
  "nbformat": 4,
  "nbformat_minor": 4
}