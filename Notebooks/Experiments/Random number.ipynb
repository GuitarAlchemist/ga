{
  "cells": [
    {
      "cell_type": "code",
      "execution_count": 1,
      "metadata": {
        "dotnet_interactive": {
          "language": "csharp"
        }
      },
      "source": [
        "//Import the TAO3 nuget package\n",
        "#r \"nuget:TAO3\"\n",
        "\n",
        "//Import the TAO3 prelude\n",
        "using static TAO3.Prelude;\n",
        "\n",
        "//Creates a macro that is trigger when CTRL+SHIFT+1 is pressed, that removes the empty lines from the clipboard\n",
        "#!macro CTRL+SHIFT+1\n",
        "#!input clipboard line lines\n",
        "#!out clipboard line\n",
        "\n",
        "return lines\n",
        "    .Where(x => x != \"\");\n",
        ""
      ],
      "outputs": [
        {
          "output_type": "execute_result",
          "data": {
            "text/html": "<div><div></div><div></div><div><strong>Installed Packages</strong><ul><li><span>TAO3, 1.0.2</span></li></ul></div></div>"
          },
          "execution_count": 1,
          "metadata": {}
        },
        {
          "output_type": "execute_result",
          "data": {
            "text/markdown": "Loading extensions from `Dotnet.Interactive.Extension.System.Drawing.dll`"
          },
          "execution_count": 1,
          "metadata": {}
        },
        {
          "output_type": "execute_result",
          "data": {},
          "execution_count": 1,
          "metadata": {}
        },
        {
          "output_type": "execute_result",
          "data": {
            "text/markdown": "Loading extensions from `SkiaSharp.DotNet.Interactive.dll`"
          },
          "execution_count": 1,
          "metadata": {}
        },
        {
          "output_type": "execute_result",
          "data": {
            "text/markdown": "Loading extensions from `TAO3.dll`"
          },
          "execution_count": 1,
          "metadata": {}
        },
        {
          "output_type": "error",
          "ename": "",
          "evalue": "Microsoft.DotNet.Interactive.KernelExtensionLoadException: Failure loading Kernel Extension\r\n ---> System.MissingMethodException: Method not found: 'Void Microsoft.DotNet.Interactive.CompositeKernel.Add(Microsoft.DotNet.Interactive.Kernel, System.Collections.Generic.IEnumerable`1<System.String>)'.\r\n   at TAO3.Internal.TAO3KernelExtension.OnLoadAsync(Kernel kernel)\r\n   at System.Runtime.CompilerServices.AsyncMethodBuilderCore.Start[TStateMachine](TStateMachine& stateMachine)\r\n   at TAO3.Internal.TAO3KernelExtension.OnLoadAsync(Kernel kernel)\r\n   at Microsoft.DotNet.Interactive.Extensions.AssemblyBasedExtensionLoader.LoadFromAssembly(FileInfo assemblyFile, Kernel kernel, KernelInvocationContext context) in D:\\a\\_work\\1\\s\\src\\Microsoft.DotNet.Interactive\\Extensions\\AssemblyBasedExtensionLoader.cs:line 132\r\n   --- End of inner exception stack trace ---",
          "traceback": [
            null
          ]
        }
      ]
    }
  ],
  "metadata": {
    "kernelspec": {
      "display_name": ".NET (C#)",
      "language": "C#",
      "name": ".net-csharp"
    },
    "language_info": {
      "file_extension": ".cs",
      "mimetype": "text/x-csharp",
      "name": "C#",
      "pygments_lexer": "csharp",
      "version": "8.0"
    }
  },
  "nbformat": 4,
  "nbformat_minor": 4
}