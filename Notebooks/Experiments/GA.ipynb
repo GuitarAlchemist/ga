{
  "cells": [
    {
      "cell_type": "code",
      "execution_count": 1,
      "metadata": {
        "dotnet_interactive": {
          "language": "csharp"
        }
      },
      "source": [
        "#i nuget:C:\\Code\\GuitarAlchemist\\GA\\Common\\GA.Interactive\\bin\\Debug\n",
        "#r \"nuget:GuitarAlchemist.GA.Interactive,1.0.0-beta\"\n",
        ""
      ],
      "outputs": [
        {
          "output_type": "execute_result",
          "data": {
            "text/html": "<div><div><strong>Restore sources</strong><ul><li><span>C:\\Code\\GuitarAlchemist\\GA\\Common\\GA.Interactive\\bin\\Debug</span></li></ul></div><div></div><div><strong>Installed Packages</strong><ul><li><span>GuitarAlchemist.GA.Interactive, 1.0.0-betaae</span></li></ul></div></div>"
          },
          "execution_count": 1,
          "metadata": {}
        },
        {
          "output_type": "execute_result",
          "data": {
            "text/markdown": "Loading extensions from `GA.InteractiveExtension.dll`"
          },
          "execution_count": 1,
          "metadata": {}
        },
        {
          "output_type": "execute_result",
          "data": {
            "text/html": "\r\n<details>\r\n    <summary>Renders Guitar Alchemist objects in dotnet-interactive notebooks.</summary>\r\n</details>"
          },
          "execution_count": 1,
          "metadata": {}
        }
      ]
    },
    {
      "cell_type": "code",
      "execution_count": 1,
      "metadata": {
        "dotnet_interactive": {
          "language": "csharp"
        }
      },
      "source": [
        "using GA.Business.Config;\n",
        "using GA.Business.Core;\n",
        "using GA.Business.Core.Notes;\n",
        "using GA.Business.Core.Fretboard;\n",
        "\n",
        "var tuning = new Tuning(PitchCollection.Parse(Instruments.Instrument.Ukulele.SopranoConcertAndTenorC.Tuning));\n",
        "\n",
        "tuning\n",
        ""
      ],
      "outputs": [
        {
          "output_type": "execute_result",
          "data": {
            "text/html": "<table><thead><tr><th>PitchCollection</th></tr></thead><tbody><tr><td><div class=\"dni-plaintext\">C6 G4 C4 E4 A4</div></td></tr></tbody></table>"
          },
          "execution_count": 1,
          "metadata": {}
        }
      ]
    },
    {
      "cell_type": "code",
      "execution_count": 1,
      "metadata": {
        "dotnet_interactive": {
          "language": "csharp"
        }
      },
      "source": [
        "using GA.Business.Core.Fretboard;\n",
        "\n",
        "var Fretboard = new Fretboard(tuning, 15);\n",
        "\n",
        "Fretboard.Positions"
      ],
      "outputs": [
        {
          "output_type": "execute_result",
          "data": {
            "text/html": "<table><thead><tr><th><i>index</i></th><th><i>type</i></th><th>Str</th><th>Location</th><th>Pitch</th></tr></thead><tbody><tr><td>0</td><td>GA.Business.Core.Fretboard.Primitives.Position+Muted</td><td><table><thead><tr><th>Value</th></tr></thead><tbody><tr><td><div class=\"dni-plaintext\">1</div></td></tr></tbody></table></td><td></td><td></td></tr><tr><td>1</td><td>GA.Business.Core.Fretboard.Primitives.Position+Played</td><td></td><td><table><thead><tr><th>Str</th><th>Fret</th></tr></thead><tbody><tr><td><div class=\"dni-plaintext\">1</div></td><td><div class=\"dni-plaintext\">0</div></td></tr></tbody></table></td><td><table><thead><tr><th>Note</th><th>PitchClass</th><th>Octave</th><th>MidiNote</th></tr></thead><tbody><tr><td><div class=\"dni-plaintext\">C</div></td><td><div class=\"dni-plaintext\">0</div></td><td><div class=\"dni-plaintext\">three-line (6)</div></td><td><div class=\"dni-plaintext\">84</div></td></tr></tbody></table></td></tr><tr><td>2</td><td>GA.Business.Core.Fretboard.Primitives.Position+Played</td><td></td><td><table><thead><tr><th>Str</th><th>Fret</th></tr></thead><tbody><tr><td><div class=\"dni-plaintext\">1</div></td><td><div class=\"dni-plaintext\">1</div></td></tr></tbody></table></td><td><table><thead><tr><th>Note</th><th>PitchClass</th><th>Octave</th><th>MidiNote</th></tr></thead><tbody><tr><td><div class=\"dni-plaintext\">C#</div></td><td><div class=\"dni-plaintext\">1</div></td><td><div class=\"dni-plaintext\">three-line (6)</div></td><td><div class=\"dni-plaintext\">85</div></td></tr></tbody></table></td></tr><tr><td>3</td><td>GA.Business.Core.Fretboard.Primitives.Position+Played</td><td></td><td><table><thead><tr><th>Str</th><th>Fret</th></tr></thead><tbody><tr><td><div class=\"dni-plaintext\">1</div></td><td><div class=\"dni-plaintext\">2</div></td></tr></tbody></table></td><td><table><thead><tr><th>Note</th><th>PitchClass</th><th>Octave</th><th>MidiNote</th></tr></thead><tbody><tr><td><div class=\"dni-plaintext\">D</div></td><td><div class=\"dni-plaintext\">2</div></td><td><div class=\"dni-plaintext\">three-line (6)</div></td><td><div class=\"dni-plaintext\">86</div></td></tr></tbody></table></td></tr><tr><td>4</td><td>GA.Business.Core.Fretboard.Primitives.Position+Played</td><td></td><td><table><thead><tr><th>Str</th><th>Fret</th></tr></thead><tbody><tr><td><div class=\"dni-plaintext\">1</div></td><td><div class=\"dni-plaintext\">3</div></td></tr></tbody></table></td><td><table><thead><tr><th>Note</th><th>PitchClass</th><th>Octave</th><th>MidiNote</th></tr></thead><tbody><tr><td><div class=\"dni-plaintext\">D#</div></td><td><div class=\"dni-plaintext\">3</div></td><td><div class=\"dni-plaintext\">three-line (6)</div></td><td><div class=\"dni-plaintext\">87</div></td></tr></tbody></table></td></tr><tr><td>5</td><td>GA.Business.Core.Fretboard.Primitives.Position+Played</td><td></td><td><table><thead><tr><th>Str</th><th>Fret</th></tr></thead><tbody><tr><td><div class=\"dni-plaintext\">1</div></td><td><div class=\"dni-plaintext\">4</div></td></tr></tbody></table></td><td><table><thead><tr><th>Note</th><th>PitchClass</th><th>Octave</th><th>MidiNote</th></tr></thead><tbody><tr><td><div class=\"dni-plaintext\">E</div></td><td><div class=\"dni-plaintext\">4</div></td><td><div class=\"dni-plaintext\">three-line (6)</div></td><td><div class=\"dni-plaintext\">88</div></td></tr></tbody></table></td></tr><tr><td>6</td><td>GA.Business.Core.Fretboard.Primitives.Position+Played</td><td></td><td><table><thead><tr><th>Str</th><th>Fret</th></tr></thead><tbody><tr><td><div class=\"dni-plaintext\">1</div></td><td><div class=\"dni-plaintext\">5</div></td></tr></tbody></table></td><td><table><thead><tr><th>Note</th><th>PitchClass</th><th>Octave</th><th>MidiNote</th></tr></thead><tbody><tr><td><div class=\"dni-plaintext\">F</div></td><td><div class=\"dni-plaintext\">5</div></td><td><div class=\"dni-plaintext\">three-line (6)</div></td><td><div class=\"dni-plaintext\">89</div></td></tr></tbody></table></td></tr><tr><td>7</td><td>GA.Business.Core.Fretboard.Primitives.Position+Played</td><td></td><td><table><thead><tr><th>Str</th><th>Fret</th></tr></thead><tbody><tr><td><div class=\"dni-plaintext\">1</div></td><td><div class=\"dni-plaintext\">6</div></td></tr></tbody></table></td><td><table><thead><tr><th>Note</th><th>PitchClass</th><th>Octave</th><th>MidiNote</th></tr></thead><tbody><tr><td><div class=\"dni-plaintext\">F#</div></td><td><div class=\"dni-plaintext\">6</div></td><td><div class=\"dni-plaintext\">three-line (6)</div></td><td><div class=\"dni-plaintext\">90</div></td></tr></tbody></table></td></tr><tr><td>8</td><td>GA.Business.Core.Fretboard.Primitives.Position+Played</td><td></td><td><table><thead><tr><th>Str</th><th>Fret</th></tr></thead><tbody><tr><td><div class=\"dni-plaintext\">1</div></td><td><div class=\"dni-plaintext\">7</div></td></tr></tbody></table></td><td><table><thead><tr><th>Note</th><th>PitchClass</th><th>Octave</th><th>MidiNote</th></tr></thead><tbody><tr><td><div class=\"dni-plaintext\">G</div></td><td><div class=\"dni-plaintext\">7</div></td><td><div class=\"dni-plaintext\">three-line (6)</div></td><td><div class=\"dni-plaintext\">91</div></td></tr></tbody></table></td></tr><tr><td>9</td><td>GA.Business.Core.Fretboard.Primitives.Position+Played</td><td></td><td><table><thead><tr><th>Str</th><th>Fret</th></tr></thead><tbody><tr><td><div class=\"dni-plaintext\">1</div></td><td><div class=\"dni-plaintext\">8</div></td></tr></tbody></table></td><td><table><thead><tr><th>Note</th><th>PitchClass</th><th>Octave</th><th>MidiNote</th></tr></thead><tbody><tr><td><div class=\"dni-plaintext\">G#</div></td><td><div class=\"dni-plaintext\">8</div></td><td><div class=\"dni-plaintext\">three-line (6)</div></td><td><div class=\"dni-plaintext\">92</div></td></tr></tbody></table></td></tr><tr><td>10</td><td>GA.Business.Core.Fretboard.Primitives.Position+Played</td><td></td><td><table><thead><tr><th>Str</th><th>Fret</th></tr></thead><tbody><tr><td><div class=\"dni-plaintext\">1</div></td><td><div class=\"dni-plaintext\">9</div></td></tr></tbody></table></td><td><table><thead><tr><th>Note</th><th>PitchClass</th><th>Octave</th><th>MidiNote</th></tr></thead><tbody><tr><td><div class=\"dni-plaintext\">A</div></td><td><div class=\"dni-plaintext\">9</div></td><td><div class=\"dni-plaintext\">three-line (6)</div></td><td><div class=\"dni-plaintext\">93</div></td></tr></tbody></table></td></tr><tr><td>11</td><td>GA.Business.Core.Fretboard.Primitives.Position+Played</td><td></td><td><table><thead><tr><th>Str</th><th>Fret</th></tr></thead><tbody><tr><td><div class=\"dni-plaintext\">1</div></td><td><div class=\"dni-plaintext\">10</div></td></tr></tbody></table></td><td><table><thead><tr><th>Note</th><th>PitchClass</th><th>Octave</th><th>MidiNote</th></tr></thead><tbody><tr><td><div class=\"dni-plaintext\">A#</div></td><td><div class=\"dni-plaintext\">T</div></td><td><div class=\"dni-plaintext\">three-line (6)</div></td><td><div class=\"dni-plaintext\">94</div></td></tr></tbody></table></td></tr><tr><td>12</td><td>GA.Business.Core.Fretboard.Primitives.Position+Played</td><td></td><td><table><thead><tr><th>Str</th><th>Fret</th></tr></thead><tbody><tr><td><div class=\"dni-plaintext\">1</div></td><td><div class=\"dni-plaintext\">11</div></td></tr></tbody></table></td><td><table><thead><tr><th>Note</th><th>PitchClass</th><th>Octave</th><th>MidiNote</th></tr></thead><tbody><tr><td><div class=\"dni-plaintext\">B</div></td><td><div class=\"dni-plaintext\">E</div></td><td><div class=\"dni-plaintext\">three-line (6)</div></td><td><div class=\"dni-plaintext\">95</div></td></tr></tbody></table></td></tr><tr><td>13</td><td>GA.Business.Core.Fretboard.Primitives.Position+Played</td><td></td><td><table><thead><tr><th>Str</th><th>Fret</th></tr></thead><tbody><tr><td><div class=\"dni-plaintext\">1</div></td><td><div class=\"dni-plaintext\">12</div></td></tr></tbody></table></td><td><table><thead><tr><th>Note</th><th>PitchClass</th><th>Octave</th><th>MidiNote</th></tr></thead><tbody><tr><td><div class=\"dni-plaintext\">C</div></td><td><div class=\"dni-plaintext\">0</div></td><td><div class=\"dni-plaintext\">four-line (7)</div></td><td><div class=\"dni-plaintext\">96</div></td></tr></tbody></table></td></tr><tr><td>14</td><td>GA.Business.Core.Fretboard.Primitives.Position+Played</td><td></td><td><table><thead><tr><th>Str</th><th>Fret</th></tr></thead><tbody><tr><td><div class=\"dni-plaintext\">1</div></td><td><div class=\"dni-plaintext\">13</div></td></tr></tbody></table></td><td><table><thead><tr><th>Note</th><th>PitchClass</th><th>Octave</th><th>MidiNote</th></tr></thead><tbody><tr><td><div class=\"dni-plaintext\">C#</div></td><td><div class=\"dni-plaintext\">1</div></td><td><div class=\"dni-plaintext\">four-line (7)</div></td><td><div class=\"dni-plaintext\">97</div></td></tr></tbody></table></td></tr><tr><td>15</td><td>GA.Business.Core.Fretboard.Primitives.Position+Muted</td><td><table><thead><tr><th>Value</th></tr></thead><tbody><tr><td><div class=\"dni-plaintext\">2</div></td></tr></tbody></table></td><td></td><td></td></tr><tr><td>16</td><td>GA.Business.Core.Fretboard.Primitives.Position+Played</td><td></td><td><table><thead><tr><th>Str</th><th>Fret</th></tr></thead><tbody><tr><td><div class=\"dni-plaintext\">2</div></td><td><div class=\"dni-plaintext\">0</div></td></tr></tbody></table></td><td><table><thead><tr><th>Note</th><th>PitchClass</th><th>Octave</th><th>MidiNote</th></tr></thead><tbody><tr><td><div class=\"dni-plaintext\">G</div></td><td><div class=\"dni-plaintext\">7</div></td><td><div class=\"dni-plaintext\">one-line (4)</div></td><td><div class=\"dni-plaintext\">67</div></td></tr></tbody></table></td></tr><tr><td>17</td><td>GA.Business.Core.Fretboard.Primitives.Position+Played</td><td></td><td><table><thead><tr><th>Str</th><th>Fret</th></tr></thead><tbody><tr><td><div class=\"dni-plaintext\">2</div></td><td><div class=\"dni-plaintext\">1</div></td></tr></tbody></table></td><td><table><thead><tr><th>Note</th><th>PitchClass</th><th>Octave</th><th>MidiNote</th></tr></thead><tbody><tr><td><div class=\"dni-plaintext\">G#</div></td><td><div class=\"dni-plaintext\">8</div></td><td><div class=\"dni-plaintext\">one-line (4)</div></td><td><div class=\"dni-plaintext\">68</div></td></tr></tbody></table></td></tr><tr><td>18</td><td>GA.Business.Core.Fretboard.Primitives.Position+Played</td><td></td><td><table><thead><tr><th>Str</th><th>Fret</th></tr></thead><tbody><tr><td><div class=\"dni-plaintext\">2</div></td><td><div class=\"dni-plaintext\">2</div></td></tr></tbody></table></td><td><table><thead><tr><th>Note</th><th>PitchClass</th><th>Octave</th><th>MidiNote</th></tr></thead><tbody><tr><td><div class=\"dni-plaintext\">A</div></td><td><div class=\"dni-plaintext\">9</div></td><td><div class=\"dni-plaintext\">one-line (4)</div></td><td><div class=\"dni-plaintext\">69</div></td></tr></tbody></table></td></tr><tr><td>19</td><td>GA.Business.Core.Fretboard.Primitives.Position+Played</td><td></td><td><table><thead><tr><th>Str</th><th>Fret</th></tr></thead><tbody><tr><td><div class=\"dni-plaintext\">2</div></td><td><div class=\"dni-plaintext\">3</div></td></tr></tbody></table></td><td><table><thead><tr><th>Note</th><th>PitchClass</th><th>Octave</th><th>MidiNote</th></tr></thead><tbody><tr><td><div class=\"dni-plaintext\">A#</div></td><td><div class=\"dni-plaintext\">T</div></td><td><div class=\"dni-plaintext\">one-line (4)</div></td><td><div class=\"dni-plaintext\">70</div></td></tr></tbody></table></td></tr><tr><td colspan=\"5\"><i>... (more)</i></td></tr></tbody></table>"
          },
          "execution_count": 1,
          "metadata": {}
        }
      ]
    }
  ],
  "metadata": {
    "kernelspec": {
      "display_name": ".NET (C#)",
      "language": "C#",
      "name": ".net-csharp"
    },
    "language_info": {
      "file_extension": ".cs",
      "mimetype": "text/x-csharp",
      "name": "C#",
      "pygments_lexer": "csharp",
      "version": "8.0"
    }
  },
  "nbformat": 4,
  "nbformat_minor": 4
}