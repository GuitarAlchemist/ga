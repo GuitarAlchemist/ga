{
  "cells": [
    {
      "cell_type": "code",
      "execution_count": 1,
      "metadata": {
        "dotnet_interactive": {
          "language": "csharp"
        }
      },
      "source": [
        "#i \"nuget:C:\\Code\\GuitarAlchemist\\GA\\nuget\"\n",
        "#r \"nuget:GuitarAlchemist.GA.Interactive.LocalNuGet,*-*\"\n",
        ""
      ],
      "outputs": [
        {
          "output_type": "execute_result",
          "data": {
            "text/html": "<div><div><strong>Restore sources</strong><ul><li><span>C:\\Code\\GuitarAlchemist\\GA\\Common\\GA.Interactive\\bin\\Debug</span></li></ul></div><div></div><div><strong>Installed Packages</strong><ul><li><span>GuitarAlchemist.GA.Interactive, 1.0.1-beta5</span></li></ul></div></div>"
          },
          "execution_count": 1,
          "metadata": {}
        },
        {
          "output_type": "execute_result",
          "data": {
            "text/markdown": "Loading extensions from `GA.InteractiveExtension.dll`"
          },
          "execution_count": 1,
          "metadata": {}
        },
        {
          "output_type": "execute_result",
          "data": {
            "text/html": "\r\n<details>\r\n    <summary>Renders Guitar Alchemist objects in dotnet-interactive notebooks (72 formatters registered).</summary>\r\n</details>"
          },
          "execution_count": 1,
          "metadata": {}
        }
      ]
    },
    {
      "cell_type": "code",
      "execution_count": 1,
      "metadata": {
        "dotnet_interactive": {
          "language": "csharp"
        }
      },
      "source": [
        "var uri = new Uri(\"https://google.com\");\n",
        "\n",
        "uri"
      ],
      "outputs": [
        {
          "output_type": "execute_result",
          "data": {
            "text/html": "<a href=\"https://google.com/\"><span>https://google.com/</span></a>"
          },
          "execution_count": 1,
          "metadata": {}
        }
      ]
    },
    {
      "cell_type": "code",
      "execution_count": 1,
      "metadata": {
        "dotnet_interactive": {
          "language": "csharp"
        }
      },
      "source": [
        "using GA.Business.Core.Tonal;\n",
        "\n",
        "var myKey = Key.Major.Db;\n",
        "\n",
        "myKey"
      ],
      "outputs": [
        {
          "output_type": "execute_result",
          "data": {
            "text/html": "<table><thead><tr><th>KeyMode</th><th>Root</th><th>KeySignature</th><th>AccidentalKind</th></tr></thead><tbody><tr><td><div class=\"dni-plaintext\">Major</div></td><td><div class=\"dni-plaintext\">Db</div></td><td><div class=\"dni-plaintext\">Bb Eb Ab Db Gb</div></td><td><div class=\"dni-plaintext\">Flat</div></td></tr></tbody></table>"
          },
          "execution_count": 1,
          "metadata": {}
        }
      ]
    },
    {
      "cell_type": "code",
      "execution_count": 1,
      "metadata": {
        "dotnet_interactive": {
          "language": "csharp"
        }
      },
      "source": [
        "using GA.Business.Core.Tonal.Modes;\n",
        "\n",
        "MelodicMinorMode.Objects\n",
        "\n",
        ""
      ],
      "outputs": [
        {
          "output_type": "execute_result",
          "data": {
            "text/html": "<table><thead><tr><th><i>index</i></th><th>Name</th><th>ParentScaleDegree</th><th>Notes</th><th>Intervals</th><th>ParentScale</th><th>IsMinorMode</th><th>Formula</th><th>ColorNotes</th><th>RefMode</th><th>Identity</th></tr></thead><tbody><tr><td>0</td><td>MelodicMinorMode minor</td><td><table><thead><tr><th>Value</th></tr></thead><tbody><tr><td><div class=\"dni-plaintext\">1</div></td></tr></tbody></table></td><td><div class=\"dni-plaintext\">[ A, B, C, D, E, F#, G# ]</div></td><td><div class=\"dni-plaintext\">[ P1, M2, m3, P4, P5, M6, M7 ]</div></td><td><div class=\"dni-plaintext\">A B C D E F# G#</div></td><td><div class=\"dni-plaintext\">True</div></td><td><div class=\"dni-plaintext\">  1   2  b3   4   5 &gt;♮6 &gt;♮7</div></td><td><div class=\"dni-plaintext\">[ F#, G# ]</div></td><td><table><thead><tr><th>Name</th><th>ParentScaleDegree</th><th>Notes</th><th>Intervals</th><th>ParentScale</th><th>IsMinorMode</th><th>Formula</th><th>ColorNotes</th><th>RefMode</th><th>Identity</th></tr></thead><tbody><tr><td><div class=\"dni-plaintext\">Aeolian</div></td><td><div class=\"dni-plaintext\">6</div></td><td><div class=\"dni-plaintext\">[ A, B, C, D, E, F, G ]</div></td><td><div class=\"dni-plaintext\">[ P1, M2, m3, P4, P5, m6, m7 ]</div></td><td><div class=\"dni-plaintext\">Major - C D E F G A B</div></td><td><div class=\"dni-plaintext\">True</div></td><td><div class=\"dni-plaintext\">  1   2  b3   4   5  b6  b7</div></td><td><div class=\"dni-plaintext\">[  ]</div></td><td><div class=\"dni-plaintext\">Aeolian -   1   2  b3   4   5  b6  b7</div></td><td><div class=\"dni-plaintext\">2741 (Major)</div></td></tr></tbody></table></td><td><table><thead><tr><th>Value</th><th>PitchClassSet</th><th>ScaleName</th><th>ScaleVideoUrl</th><th>ScalePageUrl</th></tr></thead><tbody><tr><td><div class=\"dni-plaintext\">2901</div></td><td><div class=\"dni-plaintext\">(0 2 4 6 8 9 E)</div></td><td><div class=\"dni-plaintext\"></div></td><td><div class=\"dni-plaintext\">{ https://www.youtube.com/embed/X7ZRdTjx_uQ: AbsolutePath: /embed/X7ZRdTjx_uQ, AbsoluteUri: https://www.youtube.com/embed/X7ZRdTjx_uQ, LocalPath: /embed/X7ZRdTjx_uQ, Authority: www.youtube.com, HostNameType: Dns, IsDefaultPort: True, IsFile: False, IsLoopback: False, PathAndQuery: /embed/X7ZRdTjx_uQ, Segments: [ /, embed/, X7ZRdTjx_uQ ], IsUnc: False, Host: www.youtube.com, Port: 443, Query: , Fragment: , Scheme: https, OriginalString: https://www.youtube.com/embed/X7ZRdTjx_uQ, DnsSafeHost: www.youtube.com, IdnHost: www.youtube.com, IsAbsoluteUri: True, .. }</div></td><td><div class=\"dni-plaintext\">{ https://ianring.com/musictheory/scales/2901: AbsolutePath: /musictheory/scales/2901, AbsoluteUri: https://ianring.com/musictheory/scales/2901, LocalPath: /musictheory/scales/2901, Authority: ianring.com, HostNameType: Dns, IsDefaultPort: True, IsFile: False, IsLoopback: False, PathAndQuery: /musictheory/scales/2901, Segments: [ /, musictheory/, scales/, 2901 ], IsUnc: False, Host: ianring.com, Port: 443, Query: , Fragment: , Scheme: https, OriginalString: https://ianring.com/musictheory/scales/2901, DnsSafeHost: ianring.com, IdnHost: ianring.com, IsAbsoluteUri: True, .. }</div></td></tr></tbody></table></td></tr><tr><td>1</td><td>Dorian ♭2</td><td><table><thead><tr><th>Value</th></tr></thead><tbody><tr><td><div class=\"dni-plaintext\">2</div></td></tr></tbody></table></td><td><div class=\"dni-plaintext\">[ B, C, D, E, F#, G#, A ]</div></td><td><div class=\"dni-plaintext\">[ P1, m2, m3, P4, P5, M6, m7 ]</div></td><td><div class=\"dni-plaintext\">A B C D E F# G#</div></td><td><div class=\"dni-plaintext\">True</div></td><td><div class=\"dni-plaintext\">  1 &gt;b2  b3   4   5 &gt;♮6  b7</div></td><td><div class=\"dni-plaintext\">[ C, G# ]</div></td><td><table><thead><tr><th>Name</th><th>ParentScaleDegree</th><th>Notes</th><th>Intervals</th><th>ParentScale</th><th>IsMinorMode</th><th>Formula</th><th>ColorNotes</th><th>RefMode</th><th>Identity</th></tr></thead><tbody><tr><td><div class=\"dni-plaintext\">Aeolian</div></td><td><div class=\"dni-plaintext\">6</div></td><td><div class=\"dni-plaintext\">[ A, B, C, D, E, F, G ]</div></td><td><div class=\"dni-plaintext\">[ P1, M2, m3, P4, P5, m6, m7 ]</div></td><td><div class=\"dni-plaintext\">Major - C D E F G A B</div></td><td><div class=\"dni-plaintext\">True</div></td><td><div class=\"dni-plaintext\">  1   2  b3   4   5  b6  b7</div></td><td><div class=\"dni-plaintext\">[  ]</div></td><td><div class=\"dni-plaintext\">Aeolian -   1   2  b3   4   5  b6  b7</div></td><td><div class=\"dni-plaintext\">2741 (Major)</div></td></tr></tbody></table></td><td><table><thead><tr><th>Value</th><th>PitchClassSet</th><th>ScaleName</th><th>ScaleVideoUrl</th><th>ScalePageUrl</th></tr></thead><tbody><tr><td><div class=\"dni-plaintext\">2901</div></td><td><div class=\"dni-plaintext\">(0 2 4 6 8 9 E)</div></td><td><div class=\"dni-plaintext\"></div></td><td><div class=\"dni-plaintext\">{ https://www.youtube.com/embed/X7ZRdTjx_uQ: AbsolutePath: /embed/X7ZRdTjx_uQ, AbsoluteUri: https://www.youtube.com/embed/X7ZRdTjx_uQ, LocalPath: /embed/X7ZRdTjx_uQ, Authority: www.youtube.com, HostNameType: Dns, IsDefaultPort: True, IsFile: False, IsLoopback: False, PathAndQuery: /embed/X7ZRdTjx_uQ, Segments: [ /, embed/, X7ZRdTjx_uQ ], IsUnc: False, Host: www.youtube.com, Port: 443, Query: , Fragment: , Scheme: https, OriginalString: https://www.youtube.com/embed/X7ZRdTjx_uQ, DnsSafeHost: www.youtube.com, IdnHost: www.youtube.com, IsAbsoluteUri: True, .. }</div></td><td><div class=\"dni-plaintext\">{ https://ianring.com/musictheory/scales/2901: AbsolutePath: /musictheory/scales/2901, AbsoluteUri: https://ianring.com/musictheory/scales/2901, LocalPath: /musictheory/scales/2901, Authority: ianring.com, HostNameType: Dns, IsDefaultPort: True, IsFile: False, IsLoopback: False, PathAndQuery: /musictheory/scales/2901, Segments: [ /, musictheory/, scales/, 2901 ], IsUnc: False, Host: ianring.com, Port: 443, Query: , Fragment: , Scheme: https, OriginalString: https://ianring.com/musictheory/scales/2901, DnsSafeHost: ianring.com, IdnHost: ianring.com, IsAbsoluteUri: True, .. }</div></td></tr></tbody></table></td></tr><tr><td>2</td><td>Lydian ♯5</td><td><table><thead><tr><th>Value</th></tr></thead><tbody><tr><td><div class=\"dni-plaintext\">3</div></td></tr></tbody></table></td><td><div class=\"dni-plaintext\">[ C, D, E, F#, G#, A, B ]</div></td><td><div class=\"dni-plaintext\">[ P1, M2, M3, A4, A5, M6, M7 ]</div></td><td><div class=\"dni-plaintext\">A B C D E F# G#</div></td><td><div class=\"dni-plaintext\">False</div></td><td><div class=\"dni-plaintext\">  1   2   3 &gt;#4 &gt;#5   6   7</div></td><td><div class=\"dni-plaintext\">[ F#, G# ]</div></td><td><table><thead><tr><th>Name</th><th>ParentScaleDegree</th><th>Notes</th><th>Intervals</th><th>ParentScale</th><th>IsMinorMode</th><th>Formula</th><th>ColorNotes</th><th>RefMode</th><th>Identity</th></tr></thead><tbody><tr><td><div class=\"dni-plaintext\">Ionian</div></td><td><div class=\"dni-plaintext\">1</div></td><td><div class=\"dni-plaintext\">[ C, D, E, F, G, A, B ]</div></td><td><div class=\"dni-plaintext\">[ P1, M2, M3, P4, P5, M6, M7 ]</div></td><td><div class=\"dni-plaintext\">Major - C D E F G A B</div></td><td><div class=\"dni-plaintext\">False</div></td><td><div class=\"dni-plaintext\">  1   2   3   4   5   6   7</div></td><td><div class=\"dni-plaintext\">[  ]</div></td><td><div class=\"dni-plaintext\">Ionian -   1   2   3   4   5   6   7</div></td><td><div class=\"dni-plaintext\">2741 (Major)</div></td></tr></tbody></table></td><td><table><thead><tr><th>Value</th><th>PitchClassSet</th><th>ScaleName</th><th>ScaleVideoUrl</th><th>ScalePageUrl</th></tr></thead><tbody><tr><td><div class=\"dni-plaintext\">2901</div></td><td><div class=\"dni-plaintext\">(0 2 4 6 8 9 E)</div></td><td><div class=\"dni-plaintext\"></div></td><td><div class=\"dni-plaintext\">{ https://www.youtube.com/embed/X7ZRdTjx_uQ: AbsolutePath: /embed/X7ZRdTjx_uQ, AbsoluteUri: https://www.youtube.com/embed/X7ZRdTjx_uQ, LocalPath: /embed/X7ZRdTjx_uQ, Authority: www.youtube.com, HostNameType: Dns, IsDefaultPort: True, IsFile: False, IsLoopback: False, PathAndQuery: /embed/X7ZRdTjx_uQ, Segments: [ /, embed/, X7ZRdTjx_uQ ], IsUnc: False, Host: www.youtube.com, Port: 443, Query: , Fragment: , Scheme: https, OriginalString: https://www.youtube.com/embed/X7ZRdTjx_uQ, DnsSafeHost: www.youtube.com, IdnHost: www.youtube.com, IsAbsoluteUri: True, .. }</div></td><td><div class=\"dni-plaintext\">{ https://ianring.com/musictheory/scales/2901: AbsolutePath: /musictheory/scales/2901, AbsoluteUri: https://ianring.com/musictheory/scales/2901, LocalPath: /musictheory/scales/2901, Authority: ianring.com, HostNameType: Dns, IsDefaultPort: True, IsFile: False, IsLoopback: False, PathAndQuery: /musictheory/scales/2901, Segments: [ /, musictheory/, scales/, 2901 ], IsUnc: False, Host: ianring.com, Port: 443, Query: , Fragment: , Scheme: https, OriginalString: https://ianring.com/musictheory/scales/2901, DnsSafeHost: ianring.com, IdnHost: ianring.com, IsAbsoluteUri: True, .. }</div></td></tr></tbody></table></td></tr><tr><td>3</td><td>Lydian dominant</td><td><table><thead><tr><th>Value</th></tr></thead><tbody><tr><td><div class=\"dni-plaintext\">4</div></td></tr></tbody></table></td><td><div class=\"dni-plaintext\">[ D, E, F#, G#, A, B, C ]</div></td><td><div class=\"dni-plaintext\">[ P1, M2, M3, A4, P5, M6, m7 ]</div></td><td><div class=\"dni-plaintext\">A B C D E F# G#</div></td><td><div class=\"dni-plaintext\">False</div></td><td><div class=\"dni-plaintext\">  1   2   3 &gt;#4   5   6 &gt;b7</div></td><td><div class=\"dni-plaintext\">[ G#, C ]</div></td><td><table><thead><tr><th>Name</th><th>ParentScaleDegree</th><th>Notes</th><th>Intervals</th><th>ParentScale</th><th>IsMinorMode</th><th>Formula</th><th>ColorNotes</th><th>RefMode</th><th>Identity</th></tr></thead><tbody><tr><td><div class=\"dni-plaintext\">Ionian</div></td><td><div class=\"dni-plaintext\">1</div></td><td><div class=\"dni-plaintext\">[ C, D, E, F, G, A, B ]</div></td><td><div class=\"dni-plaintext\">[ P1, M2, M3, P4, P5, M6, M7 ]</div></td><td><div class=\"dni-plaintext\">Major - C D E F G A B</div></td><td><div class=\"dni-plaintext\">False</div></td><td><div class=\"dni-plaintext\">  1   2   3   4   5   6   7</div></td><td><div class=\"dni-plaintext\">[  ]</div></td><td><div class=\"dni-plaintext\">Ionian -   1   2   3   4   5   6   7</div></td><td><div class=\"dni-plaintext\">2741 (Major)</div></td></tr></tbody></table></td><td><table><thead><tr><th>Value</th><th>PitchClassSet</th><th>ScaleName</th><th>ScaleVideoUrl</th><th>ScalePageUrl</th></tr></thead><tbody><tr><td><div class=\"dni-plaintext\">2901</div></td><td><div class=\"dni-plaintext\">(0 2 4 6 8 9 E)</div></td><td><div class=\"dni-plaintext\"></div></td><td><div class=\"dni-plaintext\">{ https://www.youtube.com/embed/X7ZRdTjx_uQ: AbsolutePath: /embed/X7ZRdTjx_uQ, AbsoluteUri: https://www.youtube.com/embed/X7ZRdTjx_uQ, LocalPath: /embed/X7ZRdTjx_uQ, Authority: www.youtube.com, HostNameType: Dns, IsDefaultPort: True, IsFile: False, IsLoopback: False, PathAndQuery: /embed/X7ZRdTjx_uQ, Segments: [ /, embed/, X7ZRdTjx_uQ ], IsUnc: False, Host: www.youtube.com, Port: 443, Query: , Fragment: , Scheme: https, OriginalString: https://www.youtube.com/embed/X7ZRdTjx_uQ, DnsSafeHost: www.youtube.com, IdnHost: www.youtube.com, IsAbsoluteUri: True, .. }</div></td><td><div class=\"dni-plaintext\">{ https://ianring.com/musictheory/scales/2901: AbsolutePath: /musictheory/scales/2901, AbsoluteUri: https://ianring.com/musictheory/scales/2901, LocalPath: /musictheory/scales/2901, Authority: ianring.com, HostNameType: Dns, IsDefaultPort: True, IsFile: False, IsLoopback: False, PathAndQuery: /musictheory/scales/2901, Segments: [ /, musictheory/, scales/, 2901 ], IsUnc: False, Host: ianring.com, Port: 443, Query: , Fragment: , Scheme: https, OriginalString: https://ianring.com/musictheory/scales/2901, DnsSafeHost: ianring.com, IdnHost: ianring.com, IsAbsoluteUri: True, .. }</div></td></tr></tbody></table></td></tr><tr><td>4</td><td>Mixolydian ♭6</td><td><table><thead><tr><th>Value</th></tr></thead><tbody><tr><td><div class=\"dni-plaintext\">5</div></td></tr></tbody></table></td><td><div class=\"dni-plaintext\">[ E, F#, G#, A, B, C, D ]</div></td><td><div class=\"dni-plaintext\">[ P1, M2, M3, P4, P5, m6, m7 ]</div></td><td><div class=\"dni-plaintext\">A B C D E F# G#</div></td><td><div class=\"dni-plaintext\">False</div></td><td><div class=\"dni-plaintext\">  1   2   3   4   5 &gt;b6 &gt;b7</div></td><td><div class=\"dni-plaintext\">[ C, D ]</div></td><td><table><thead><tr><th>Name</th><th>ParentScaleDegree</th><th>Notes</th><th>Intervals</th><th>ParentScale</th><th>IsMinorMode</th><th>Formula</th><th>ColorNotes</th><th>RefMode</th><th>Identity</th></tr></thead><tbody><tr><td><div class=\"dni-plaintext\">Ionian</div></td><td><div class=\"dni-plaintext\">1</div></td><td><div class=\"dni-plaintext\">[ C, D, E, F, G, A, B ]</div></td><td><div class=\"dni-plaintext\">[ P1, M2, M3, P4, P5, M6, M7 ]</div></td><td><div class=\"dni-plaintext\">Major - C D E F G A B</div></td><td><div class=\"dni-plaintext\">False</div></td><td><div class=\"dni-plaintext\">  1   2   3   4   5   6   7</div></td><td><div class=\"dni-plaintext\">[  ]</div></td><td><div class=\"dni-plaintext\">Ionian -   1   2   3   4   5   6   7</div></td><td><div class=\"dni-plaintext\">2741 (Major)</div></td></tr></tbody></table></td><td><table><thead><tr><th>Value</th><th>PitchClassSet</th><th>ScaleName</th><th>ScaleVideoUrl</th><th>ScalePageUrl</th></tr></thead><tbody><tr><td><div class=\"dni-plaintext\">2901</div></td><td><div class=\"dni-plaintext\">(0 2 4 6 8 9 E)</div></td><td><div class=\"dni-plaintext\"></div></td><td><div class=\"dni-plaintext\">{ https://www.youtube.com/embed/X7ZRdTjx_uQ: AbsolutePath: /embed/X7ZRdTjx_uQ, AbsoluteUri: https://www.youtube.com/embed/X7ZRdTjx_uQ, LocalPath: /embed/X7ZRdTjx_uQ, Authority: www.youtube.com, HostNameType: Dns, IsDefaultPort: True, IsFile: False, IsLoopback: False, PathAndQuery: /embed/X7ZRdTjx_uQ, Segments: [ /, embed/, X7ZRdTjx_uQ ], IsUnc: False, Host: www.youtube.com, Port: 443, Query: , Fragment: , Scheme: https, OriginalString: https://www.youtube.com/embed/X7ZRdTjx_uQ, DnsSafeHost: www.youtube.com, IdnHost: www.youtube.com, IsAbsoluteUri: True, .. }</div></td><td><div class=\"dni-plaintext\">{ https://ianring.com/musictheory/scales/2901: AbsolutePath: /musictheory/scales/2901, AbsoluteUri: https://ianring.com/musictheory/scales/2901, LocalPath: /musictheory/scales/2901, Authority: ianring.com, HostNameType: Dns, IsDefaultPort: True, IsFile: False, IsLoopback: False, PathAndQuery: /musictheory/scales/2901, Segments: [ /, musictheory/, scales/, 2901 ], IsUnc: False, Host: ianring.com, Port: 443, Query: , Fragment: , Scheme: https, OriginalString: https://ianring.com/musictheory/scales/2901, DnsSafeHost: ianring.com, IdnHost: ianring.com, IsAbsoluteUri: True, .. }</div></td></tr></tbody></table></td></tr><tr><td>5</td><td>Locrian ♮2</td><td><table><thead><tr><th>Value</th></tr></thead><tbody><tr><td><div class=\"dni-plaintext\">6</div></td></tr></tbody></table></td><td><div class=\"dni-plaintext\">[ F#, G#, A, B, C, D, E ]</div></td><td><div class=\"dni-plaintext\">[ P1, M2, m3, P4, d5, m6, m7 ]</div></td><td><div class=\"dni-plaintext\">A B C D E F# G#</div></td><td><div class=\"dni-plaintext\">True</div></td><td><div class=\"dni-plaintext\">  1   2  b3   4 &gt;b5  b6  b7</div></td><td><div class=\"dni-plaintext\">[ C ]</div></td><td><table><thead><tr><th>Name</th><th>ParentScaleDegree</th><th>Notes</th><th>Intervals</th><th>ParentScale</th><th>IsMinorMode</th><th>Formula</th><th>ColorNotes</th><th>RefMode</th><th>Identity</th></tr></thead><tbody><tr><td><div class=\"dni-plaintext\">Aeolian</div></td><td><div class=\"dni-plaintext\">6</div></td><td><div class=\"dni-plaintext\">[ A, B, C, D, E, F, G ]</div></td><td><div class=\"dni-plaintext\">[ P1, M2, m3, P4, P5, m6, m7 ]</div></td><td><div class=\"dni-plaintext\">Major - C D E F G A B</div></td><td><div class=\"dni-plaintext\">True</div></td><td><div class=\"dni-plaintext\">  1   2  b3   4   5  b6  b7</div></td><td><div class=\"dni-plaintext\">[  ]</div></td><td><div class=\"dni-plaintext\">Aeolian -   1   2  b3   4   5  b6  b7</div></td><td><div class=\"dni-plaintext\">2741 (Major)</div></td></tr></tbody></table></td><td><table><thead><tr><th>Value</th><th>PitchClassSet</th><th>ScaleName</th><th>ScaleVideoUrl</th><th>ScalePageUrl</th></tr></thead><tbody><tr><td><div class=\"dni-plaintext\">2901</div></td><td><div class=\"dni-plaintext\">(0 2 4 6 8 9 E)</div></td><td><div class=\"dni-plaintext\"></div></td><td><div class=\"dni-plaintext\">{ https://www.youtube.com/embed/X7ZRdTjx_uQ: AbsolutePath: /embed/X7ZRdTjx_uQ, AbsoluteUri: https://www.youtube.com/embed/X7ZRdTjx_uQ, LocalPath: /embed/X7ZRdTjx_uQ, Authority: www.youtube.com, HostNameType: Dns, IsDefaultPort: True, IsFile: False, IsLoopback: False, PathAndQuery: /embed/X7ZRdTjx_uQ, Segments: [ /, embed/, X7ZRdTjx_uQ ], IsUnc: False, Host: www.youtube.com, Port: 443, Query: , Fragment: , Scheme: https, OriginalString: https://www.youtube.com/embed/X7ZRdTjx_uQ, DnsSafeHost: www.youtube.com, IdnHost: www.youtube.com, IsAbsoluteUri: True, .. }</div></td><td><div class=\"dni-plaintext\">{ https://ianring.com/musictheory/scales/2901: AbsolutePath: /musictheory/scales/2901, AbsoluteUri: https://ianring.com/musictheory/scales/2901, LocalPath: /musictheory/scales/2901, Authority: ianring.com, HostNameType: Dns, IsDefaultPort: True, IsFile: False, IsLoopback: False, PathAndQuery: /musictheory/scales/2901, Segments: [ /, musictheory/, scales/, 2901 ], IsUnc: False, Host: ianring.com, Port: 443, Query: , Fragment: , Scheme: https, OriginalString: https://ianring.com/musictheory/scales/2901, DnsSafeHost: ianring.com, IdnHost: ianring.com, IsAbsoluteUri: True, .. }</div></td></tr></tbody></table></td></tr><tr><td>6</td><td>Altered</td><td><table><thead><tr><th>Value</th></tr></thead><tbody><tr><td><div class=\"dni-plaintext\">7</div></td></tr></tbody></table></td><td><div class=\"dni-plaintext\">[ G#, A, B, C, D, E, F# ]</div></td><td><div class=\"dni-plaintext\">[ P1, m2, m3, d4, d5, m6, m7 ]</div></td><td><div class=\"dni-plaintext\">A B C D E F# G#</div></td><td><div class=\"dni-plaintext\">True</div></td><td><div class=\"dni-plaintext\">  1 &gt;b2  b3 &gt;b4 &gt;b5  b6  b7</div></td><td><div class=\"dni-plaintext\">[ A, C, D ]</div></td><td><table><thead><tr><th>Name</th><th>ParentScaleDegree</th><th>Notes</th><th>Intervals</th><th>ParentScale</th><th>IsMinorMode</th><th>Formula</th><th>ColorNotes</th><th>RefMode</th><th>Identity</th></tr></thead><tbody><tr><td><div class=\"dni-plaintext\">Aeolian</div></td><td><div class=\"dni-plaintext\">6</div></td><td><div class=\"dni-plaintext\">[ A, B, C, D, E, F, G ]</div></td><td><div class=\"dni-plaintext\">[ P1, M2, m3, P4, P5, m6, m7 ]</div></td><td><div class=\"dni-plaintext\">Major - C D E F G A B</div></td><td><div class=\"dni-plaintext\">True</div></td><td><div class=\"dni-plaintext\">  1   2  b3   4   5  b6  b7</div></td><td><div class=\"dni-plaintext\">[  ]</div></td><td><div class=\"dni-plaintext\">Aeolian -   1   2  b3   4   5  b6  b7</div></td><td><div class=\"dni-plaintext\">2741 (Major)</div></td></tr></tbody></table></td><td><table><thead><tr><th>Value</th><th>PitchClassSet</th><th>ScaleName</th><th>ScaleVideoUrl</th><th>ScalePageUrl</th></tr></thead><tbody><tr><td><div class=\"dni-plaintext\">2901</div></td><td><div class=\"dni-plaintext\">(0 2 4 6 8 9 E)</div></td><td><div class=\"dni-plaintext\"></div></td><td><div class=\"dni-plaintext\">{ https://www.youtube.com/embed/X7ZRdTjx_uQ: AbsolutePath: /embed/X7ZRdTjx_uQ, AbsoluteUri: https://www.youtube.com/embed/X7ZRdTjx_uQ, LocalPath: /embed/X7ZRdTjx_uQ, Authority: www.youtube.com, HostNameType: Dns, IsDefaultPort: True, IsFile: False, IsLoopback: False, PathAndQuery: /embed/X7ZRdTjx_uQ, Segments: [ /, embed/, X7ZRdTjx_uQ ], IsUnc: False, Host: www.youtube.com, Port: 443, Query: , Fragment: , Scheme: https, OriginalString: https://www.youtube.com/embed/X7ZRdTjx_uQ, DnsSafeHost: www.youtube.com, IdnHost: www.youtube.com, IsAbsoluteUri: True, .. }</div></td><td><div class=\"dni-plaintext\">{ https://ianring.com/musictheory/scales/2901: AbsolutePath: /musictheory/scales/2901, AbsoluteUri: https://ianring.com/musictheory/scales/2901, LocalPath: /musictheory/scales/2901, Authority: ianring.com, HostNameType: Dns, IsDefaultPort: True, IsFile: False, IsLoopback: False, PathAndQuery: /musictheory/scales/2901, Segments: [ /, musictheory/, scales/, 2901 ], IsUnc: False, Host: ianring.com, Port: 443, Query: , Fragment: , Scheme: https, OriginalString: https://ianring.com/musictheory/scales/2901, DnsSafeHost: ianring.com, IdnHost: ianring.com, IsAbsoluteUri: True, .. }</div></td></tr></tbody></table></td></tr></tbody></table>"
          },
          "execution_count": 1,
          "metadata": {}
        }
      ]
    }
  ],
  "metadata": {
    "kernelspec": {
      "display_name": ".NET (C#)",
      "language": "C#",
      "name": ".net-csharp"
    },
    "language_info": {
      "file_extension": ".cs",
      "mimetype": "text/x-csharp",
      "name": "C#",
      "pygments_lexer": "csharp",
      "version": "8.0"
    }
  },
  "nbformat": 4,
  "nbformat_minor": 4
}