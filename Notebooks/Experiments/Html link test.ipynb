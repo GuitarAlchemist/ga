{
  "cells": [
    {
      "cell_type": "code",
      "execution_count": 1,
      "metadata": {
        "dotnet_interactive": {
          "language": "csharp"
        }
      },
      "source": [
        "using Microsoft.DotNet.Interactive.Formatting;\n",
        "using static Microsoft.DotNet.Interactive.Formatting.PocketViewTags;\n",
        "\n",
        "PocketView pocketView = span(\n",
        "\ta[href: @\"https://en.wikipedia.org\"](\n",
        "\t\tspan(\"Wikipedia\")\n",
        "\t)\n",
        ");\n",
        "pocketView"
      ],
      "outputs": [
        {
          "output_type": "error",
          "ename": "",
          "evalue": "(6,21): error CS1525: Invalid expression term ')'",
          "traceback": [
            null
          ]
        }
      ]
    }
  ],
  "metadata": {
    "kernelspec": {
      "display_name": ".NET (C#)",
      "language": "C#",
      "name": ".net-csharp"
    },
    "language_info": {
      "file_extension": ".cs",
      "mimetype": "text/x-csharp",
      "name": "C#",
      "pygments_lexer": "csharp",
      "version": "8.0"
    }
  },
  "nbformat": 4,
  "nbformat_minor": 4
}