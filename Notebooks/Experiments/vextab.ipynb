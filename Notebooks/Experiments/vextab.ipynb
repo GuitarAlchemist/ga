{
  "cells": [
    {
      "cell_type": "code",
      "execution_count": 9,
      "metadata": {
        "dotnet_interactive": {
          "language": "csharp"
        },
        "polyglot_notebook": {
          "kernelName": "csharp"
        },
        "vscode": {
          "languageId": "polyglot-notebook"
        }
      },
      "outputs": [
        {
          "ename": "Error",
          "evalue": "(23,1): error CS8086: A '}' character must be escaped (by doubling) in an interpolated string.",
          "output_type": "error",
          "traceback": [
            "(23,1): error CS8086: A '}' character must be escaped (by doubling) in an interpolated string."
          ]
        }
      ],
      "source": [
        "using Microsoft.DotNet.Interactive.Formatting;\n",
        "\n",
        "var htmlContent = \"\"\"\n",
        "<div id='vex-tab-output'></div>\n",
        "<script src='https://cdnjs.cloudflare.com/ajax/libs/vexflow/4.0.1/vexflow-min.js'></script>\n",
        "<script>\n",
        "(function() {{\n",
        "    var checkVexFlowLoaded = setInterval(function() {{\n",
        "        if (typeof Vex !== 'undefined') {{\n",
        "            clearInterval(checkVexFlowLoaded);\n",
        "\n",
        "            // VexFlow is loaded, proceed with rendering\n",
        "            var VF = Vex.Flow;\n",
        "            var div = document.getElementById('vex-tab-output');\n",
        "            var renderer = new VF.Renderer(div, VF.Renderer.Backends.SVG);\n",
        "            renderer.resize(500, 200);\n",
        "            var context = renderer.getContext();\n",
        "            var stave = new VF.Stave(10, 40, 400);\n",
        "            stave.addClef('treble').addTimeSignature('4/4');\n",
        "            stave.setContext(context).draw();\n",
        "        }}\n",
        "    }}, 100); // Check every 100 milliseconds\n",
        "})();\n",
        "</script>\n",
        "\"\"\";\n",
        "\n",
        "display(HTML(htmlContent));\n"
      ]
    },
    {
      "cell_type": "code",
      "execution_count": null,
      "metadata": {
        "dotnet_interactive": {
          "language": "html"
        },
        "vscode": {
          "languageId": "polyglot-notebook"
        }
      },
      "outputs": [],
      "source": []
    }
  ],
  "metadata": {
    "kernelspec": {
      "display_name": ".NET (C#)",
      "language": "C#",
      "name": ".net-csharp"
    },
    "language_info": {
      "file_extension": ".cs",
      "mimetype": "text/x-csharp",
      "name": "C#",
      "pygments_lexer": "csharp",
      "version": "8.0"
    }
  },
  "nbformat": 4,
  "nbformat_minor": 4
}
