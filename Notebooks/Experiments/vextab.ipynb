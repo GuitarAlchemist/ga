{
  "cells": [
    {
      "cell_type": "code",
      "execution_count": 13,
      "metadata": {
        "dotnet_interactive": {
          "language": "csharp"
        },
        "polyglot_notebook": {
          "kernelName": "csharp"
        },
        "vscode": {
          "languageId": "polyglot-notebook"
        }
      },
      "outputs": [
        {
          "data": {
            "text/html": [
              "<div id='vex-tab-output'></div>\r\n",
              "<script src='https://cdnjs.cloudflare.com/ajax/libs/vexflow/4.0.1/vexflow-min.js'></script>\r\n",
              "<script>\r\n",
              "(function() {\r\n",
              "    // Check if VexFlow is loaded\r\n",
              "    if (typeof Vex === 'undefined') {\r\n",
              "        document.getElementById('vex-tab-output').innerHTML = 'VexFlow library is not loaded.';\r\n",
              "        return;\r\n",
              "    }\r\n",
              "\r\n",
              "    // Create VexFlow Renderer, attaching it to the div element with id 'vex-tab-output'\r\n",
              "    var vf = new Vex.Flow.Factory({renderer: {elementId: 'vex-tab-output', width: 500, height: 200}});\r\n",
              "    var score = vf.EasyScore();\r\n",
              "    var system = vf.System();\r\n",
              "\r\n",
              "    // Add a stave (musical staff) to the system\r\n",
              "    system.addStave({\r\n",
              "        voices: [\r\n",
              "            // Define notes for the stave here using VexTab notation\r\n",
              "            score.voice(score.notes('C#5/q, B4, A4, G#4', {stem: 'up'}))\r\n",
              "        ]\r\n",
              "    }).addClef('treble').addTimeSignature('4/4');\r\n",
              "\r\n",
              "    // Draw the stave and notes\r\n",
              "    vf.draw();\r\n",
              "})();\r\n",
              "</script>"
            ]
          },
          "metadata": {},
          "output_type": "display_data"
        }
      ],
      "source": [
        "using Microsoft.DotNet.Interactive.Formatting;\n",
        "\n",
        "var htmlContent = \"\"\"\n",
        "    <div id='vex-tab-output'></div>\n",
        "    <script src='https://cdnjs.cloudflare.com/ajax/libs/vexflow/4.0.1/vexflow-min.js'></script>\n",
        "    <script>\n",
        "    (function() {\n",
        "        // Check if VexFlow is loaded\n",
        "        if (typeof Vex === 'undefined') {\n",
        "            document.getElementById('vex-tab-output').innerHTML = 'VexFlow library is not loaded.';\n",
        "            return;\n",
        "        }\n",
        "\n",
        "        // Create VexFlow Renderer, attaching it to the div element with id 'vex-tab-output'\n",
        "        var vf = new Vex.Flow.Factory({renderer: {elementId: 'vex-tab-output', width: 500, height: 200}});\n",
        "        var score = vf.EasyScore();\n",
        "        var system = vf.System();\n",
        "\n",
        "        // Add a stave (musical staff) to the system\n",
        "        system.addStave({\n",
        "            voices: [\n",
        "                // Define notes for the stave here using VexTab notation\n",
        "                score.voice(score.notes('C#5/q, B4, A4, G#4', {stem: 'up'}))\n",
        "            ]\n",
        "        }).addClef('treble').addTimeSignature('4/4');\n",
        "\n",
        "        // Draw the stave and notes\n",
        "        vf.draw();\n",
        "    })();\n",
        "    </script>\n",
        "    \"\"\";\n",
        "\n",
        "// Display the HTML content in the notebook\n",
        "display(HTML(htmlContent));\n",
        "\n"
      ]
    },
    {
      "cell_type": "code",
      "execution_count": 14,
      "metadata": {
        "dotnet_interactive": {
          "language": "html"
        },
        "vscode": {
          "languageId": "polyglot-notebook"
        }
      },
      "outputs": [
        {
          "data": {
            "text/html": []
          },
          "metadata": {},
          "output_type": "display_data"
        }
      ],
      "source": []
    }
  ],
  "metadata": {
    "kernelspec": {
      "display_name": ".NET (C#)",
      "language": "C#",
      "name": ".net-csharp"
    },
    "language_info": {
      "file_extension": ".cs",
      "mimetype": "text/x-csharp",
      "name": "C#",
      "pygments_lexer": "csharp",
      "version": "8.0"
    },
    "polyglot_notebook": {
      "kernelInfo": {
        "defaultKernelName": "csharp",
        "items": [
          {
            "aliases": [],
            "name": "csharp"
          }
        ]
      }
    }
  },
  "nbformat": 4,
  "nbformat_minor": 4
}
