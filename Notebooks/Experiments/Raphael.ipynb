{
  "cells": [
    {
      "cell_type": "code",
      "execution_count": 7,
      "metadata": {
        "dotnet_interactive": {
          "language": "html"
        },
        "vscode": {
          "languageId": "dotnet-interactive.html"
        }
      },
      "outputs": [
        {
          "data": {
            "text/html": [
              "<div id=\"container\"></div> \r\n",
              "<script src=\"http://cdnjs.cloudflare.com/ajax/libs/raphael/2.1.0/raphael-min.js\"> </script> \r\n",
              "<script> \r\n",
              "var paper = Raphael(\"container\", 500, 300); \r\n",
              "var dot = paper.circle(250, 150, 30).attr({ \r\n",
              "fill: \"#FFF\", \r\n",
              "stroke: \"#000\", \r\n",
              "\"stroke-width\": 1 \r\n",
              "}); \r\n",
              "</script> "
            ]
          },
          "metadata": {},
          "output_type": "display_data"
        }
      ],
      "source": [
        "#!html\n",
        "<div id=\"container\" style=\"width: 300px; height: 300px\"></div> \n",
        "<script src=\"http://cdnjs.cloudflare.com/ajax/libs/raphael/2.1.0/raphael-min.js\"> </script> \n",
        "<script> \n",
        "var paper = Raphael(\"container\", 500, 300); \n",
        "var dot = paper.circle(250, 150, 30).attr({ \n",
        "fill: \"#FFF\", \n",
        "stroke: \"#000\", \n",
        "\"stroke-width\": 1 \n",
        "}); \n",
        "</script> "
      ]
    },
    {
      "cell_type": "code",
      "execution_count": 18,
      "metadata": {
        "dotnet_interactive": {
          "language": "html"
        },
        "vscode": {
          "languageId": "dotnet-interactive.html"
        }
      },
      "outputs": [
        {
          "data": {
            "text/html": []
          },
          "metadata": {},
          "output_type": "display_data"
        }
      ],
      "source": []
    }
  ],
  "metadata": {
    "kernelspec": {
      "display_name": ".NET (C#)",
      "language": "C#",
      "name": ".net-csharp"
    },
    "language_info": {
      "file_extension": ".cs",
      "mimetype": "text/x-csharp",
      "name": "C#",
      "pygments_lexer": "csharp",
      "version": "8.0"
    }
  },
  "nbformat": 4,
  "nbformat_minor": 4
}
