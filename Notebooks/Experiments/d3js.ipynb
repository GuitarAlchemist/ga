{
  "cells": [
    {
      "cell_type": "code",
      "execution_count": 13,
      "metadata": {
        "dotnet_interactive": {
          "language": "html"
        },
        "vscode": {
          "languageId": "dotnet-interactive.html"
        }
      },
      "outputs": [
        {
          "data": {
            "text/html": [
              "<svg id=\"renderTarget\" width=300 height=300></svg>\n",
              "\n"
            ]
          },
          "metadata": {},
          "output_type": "display_data"
        }
      ],
      "source": [
        "#!html\n",
        "<svg id=\"renderTarget\" width=300 height=300></svg>\n",
        "\n",
        "#!js\n",
        "d3Require = interactive.configureRequire({\n",
        "    paths: {\n",
        "        d3: \"https://d3js.org/d3.v5.min\"\n",
        "    }\n",
        "});\n",
        "\n",
        "d3Require([\"d3\"], d3 => {\n",
        "    d3.select(\"svg#renderTarget\")\n",
        "      .append('circle')\n",
        "      .attr('cx', 100)\n",
        "      .attr('cy', 100)\n",
        "      .attr('r', 50)\n",
        "      .attr('stroke', 'green')\n",
        "      .attr('fill', '#69a3b2'); \n",
        "});\n"
      ]
    },
    {
      "cell_type": "code",
      "execution_count": 14,
      "metadata": {
        "dotnet_interactive": {
          "language": "html"
        },
        "vscode": {
          "languageId": "dotnet-interactive.html"
        }
      },
      "outputs": [
        {
          "data": {
            "text/html": []
          },
          "metadata": {},
          "output_type": "display_data"
        }
      ],
      "source": []
    }
  ],
  "metadata": {
    "kernelspec": {
      "display_name": ".NET (C#)",
      "language": "C#",
      "name": ".net-csharp"
    },
    "language_info": {
      "file_extension": ".cs",
      "mimetype": "text/x-csharp",
      "name": "C#",
      "pygments_lexer": "csharp",
      "version": "8.0"
    }
  },
  "nbformat": 4,
  "nbformat_minor": 4
}
