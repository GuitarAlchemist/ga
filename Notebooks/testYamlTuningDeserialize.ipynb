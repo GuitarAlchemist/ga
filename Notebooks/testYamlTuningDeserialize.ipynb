{
  "cells": [
    {
      "cell_type": "code",
      "execution_count": 27,
      "metadata": {
        "dotnet_interactive": {
          "language": "fsharp"
        },
        "vscode": {
          "languageId": "dotnet-interactive.fsharp"
        }
      },
      "outputs": [
        {
          "data": {
            "text/html": [
              "<div><div></div><div></div><div><strong>Installed Packages</strong><ul><li><span>FSharp.Configuration, 3.0.0-beta1</span></li></ul></div></div>"
            ]
          },
          "metadata": {},
          "output_type": "display_data"
        },
        {
          "ename": "Error",
          "evalue": "input.fsx (10,22)-(10,32) typecheck error The type 'YamlConfig' is not defined.\ninput.fsx (10,22)-(10,32) typecheck error The type 'YamlConfig' is not defined.",
          "output_type": "error",
          "traceback": [
            "input.fsx (10,22)-(10,32) typecheck error The type 'YamlConfig' is not defined.\n",
            "input.fsx (10,22)-(10,32) typecheck error The type 'YamlConfig' is not defined."
          ]
        }
      ],
      "source": [
        "#r \"nuget:FSharp.Configuration,*-*\"\n",
        "\n",
        "open System.IO\n",
        "\n",
        "let sourceDir = __SOURCE_DIRECTORY__|> DirectoryInfo\n",
        "let (+/) path1 path2 = Path.Combine(path1, path2)\n",
        "let fullpath = Path.GetFullPath(sourceDir.FullName +/ @\"..\\Common\\GA.Business.Core\\Fretboard\\Config\\Tunings.yaml\")\n",
        "\n",
        "File.Exists(fullpath)\n",
        "\n",
        "type Config = YamlConfig< @\"C:\\Code\\GuitarAlchemist\\GA\\Common\\GA.Business.Core\\Fretboard\\Config\\Tunings.yaml\" >\n",
        "type TuningsConfig = YamlConfig<fullpath>\n",
        "let config = TuningsConfig()\n",
        "\n",
        "config.Load(yamlFile)\n",
        "config.items.Count\n",
        "config.items\n"
      ]
    },
    {
      "cell_type": "code",
      "execution_count": 19,
      "metadata": {
        "dotnet_interactive": {
          "language": "csharp"
        },
        "vscode": {
          "languageId": "dotnet-interactive.csharp"
        }
      },
      "outputs": [],
      "source": []
    }
  ],
  "metadata": {
    "kernelspec": {
      "display_name": ".NET (F#)",
      "language": "F#",
      "name": ".net-fsharp"
    },
    "language_info": {
      "file_extension": ".cs",
      "mimetype": "text/x-csharp",
      "name": "F#",
      "pygments_lexer": "csharp",
      "version": "8.0"
    }
  },
  "nbformat": 4,
  "nbformat_minor": 4
}
