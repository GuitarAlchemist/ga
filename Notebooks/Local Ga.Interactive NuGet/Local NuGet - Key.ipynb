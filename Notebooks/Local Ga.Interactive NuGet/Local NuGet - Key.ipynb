{
  "cells": [
    {
      "cell_type": "code",
      "execution_count": 6,
      "metadata": {
        "dotnet_interactive": {
          "language": "csharp"
        },
        "vscode": {
          "languageId": "polyglot-notebook"
        }
      },
      "outputs": [
        {
          "data": {
            "text/html": [
              "<div><div><strong>Restore sources</strong><ul><li><span>C:\\Code\\GuitarAlchemist\\GA\\nuget</span></li><li><span>C:\\Users\\spare\\source\\repos\\ga\\nuget</span></li></ul></div><div></div><div></div></div>"
            ]
          },
          "metadata": {},
          "output_type": "display_data"
        },
        {
          "ename": "Error",
          "evalue": "PackageManagement Error 999 The source directory 'C:\\Code\\GuitarAlchemist\\GA\\nuget' not found",
          "output_type": "error",
          "traceback": [
            "PackageManagement Error 999 The source directory 'C:\\Code\\GuitarAlchemist\\GA\\nuget' not found"
          ]
        }
      ],
      "source": [
        "#i \"nuget:C:\\Users\\spare\\source\\repos\\ga\\nuget\"\n",
        "#r \"nuget:GuitarAlchemist.GA.Interactive.LocalNuGet,*-*\"\n",
        "\n",
        "using GA.Business.Core.Tonal;\n",
        "using GA.Business.Core.Fretboard;\n",
        "\n",
        "// var fretboard = Fretboard.Default;\n",
        "// fretboard.ToString();\n",
        "\n"
      ]
    }
  ],
  "metadata": {
    "kernelspec": {
      "display_name": ".NET (C#)",
      "language": "C#",
      "name": ".net-csharp"
    },
    "language_info": {
      "file_extension": ".cs",
      "mimetype": "text/x-csharp",
      "name": "C#",
      "pygments_lexer": "csharp",
      "version": "8.0"
    }
  },
  "nbformat": 4,
  "nbformat_minor": 4
}
