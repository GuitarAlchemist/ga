{
  "cells": [
    {
      "cell_type": "code",
      "execution_count": 1,
      "metadata": {
        "dotnet_interactive": {
          "language": "csharp"
        }
      },
      "source": [
        "#i \"nuget:C:\\Code\\GuitarAlchemist\\GA\\nuget\"\n",
        "#r \"nuget:GuitarAlchemist.GA.Interactive,*-*\"\n",
        "\n",
        "using GA.Business.Core.Tonal;\n",
        "using GA.Business.Core.Fretboard;\n",
        "\n",
        "// var fretboard = Fretboard.Default;\n",
        "Console.WriteLine(\"Hello\");\n",
        "// fretboard.ToString();\n",
        "\n",
        ""
      ],
      "outputs": [
        {
          "output_type": "execute_result",
          "data": {
            "text/html": "<div><div><strong>Restore sources</strong><ul><li><span>C:\\Code\\GuitarAlchemist\\GA\\nuget</span></li></ul></div><div></div><div><strong>Installed Packages</strong><ul><li><span>GuitarAlchemist.GA.Interactive, 2022.11.6.1102</span></li></ul></div></div>"
          },
          "execution_count": 1,
          "metadata": {}
        },
        {
          "output_type": "execute_result",
          "data": {
            "text/markdown": "Loading extensions from `GA.InteractiveExtension.dll`"
          },
          "execution_count": 1,
          "metadata": {}
        },
        {
          "output_type": "execute_result",
          "data": {
            "text/html": "<details>\r\n    <pre style=\"font-family: monospace\">\r\n       ____       _ _                  _    _      _                    _     _   \r\n  / ___|_   _(_) |_ __ _ _ __     / \\  | | ___| |__   ___ _ __ ___ (_)___| |_ \r\n | |  _| | | | | __/ _` | '__|   / _ \\ | |/ __| '_ \\ / _ \\ '_ ` _ \\| / __| __|\r\n | |_| | |_| | | || (_| | |     / ___ \\| | (__| | | |  __/ | | | | | \\__ \\ |_ \r\n  \\____|\\__,_|_|\\__\\__,_|_|    /_/   \\_\\_|\\___|_| |_|\\___|_| |_| |_|_|___/\\__|\r\n                                                                              \r\n\r\n    </pre>\r\n</details>    "
          },
          "execution_count": 1,
          "metadata": {}
        },
        {
          "output_type": "execute_result",
          "data": {
            "text/html": "\r\n<details>\r\n    <summary>Renders Guitar Alchemist objects in dotnet-interactive notebooks (72 formatters registered).</summary>\r\n</details>"
          },
          "execution_count": 1,
          "metadata": {}
        },
        {
          "output_type": "execute_result",
          "data": {
            "text/plain": "Hello\r\n"
          },
          "execution_count": 1,
          "metadata": {}
        }
      ]
    },
    {
      "cell_type": "code",
      "execution_count": 1,
      "metadata": {
        "dotnet_interactive": {
          "language": "csharp"
        }
      },
      "source": [
        ""
      ],
      "outputs": []
    }
  ],
  "metadata": {
    "kernelspec": {
      "display_name": ".NET (C#)",
      "language": "C#",
      "name": ".net-csharp"
    },
    "language_info": {
      "file_extension": ".cs",
      "mimetype": "text/x-csharp",
      "name": "C#",
      "pygments_lexer": "csharp",
      "version": "8.0"
    }
  },
  "nbformat": 4,
  "nbformat_minor": 4
}