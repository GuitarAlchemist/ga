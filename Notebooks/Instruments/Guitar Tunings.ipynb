{
  "cells": [
    {
      "cell_type": "code",
      "execution_count": 2,
      "metadata": {
        "dotnet_interactive": {
          "language": "csharp"
        },
        "vscode": {
          "languageId": "dotnet-interactive.csharp"
        }
      },
      "outputs": [
        {
          "data": {
            "text/html": [
              "<div><div></div><div></div><div><strong>Installed Packages</strong><ul><li><span>FSharp.Configuration, 2.0.0</span></li><li><span>GuitarAlchemist.GA.Business.Core, 1.0.7</span></li></ul></div></div>"
            ]
          },
          "metadata": {},
          "output_type": "display_data"
        },
        {
          "name": "stdout",
          "output_type": "stream",
          "text": [
            "Standard\r\n",
            "DADGAD\r\n",
            "Double Drop D\r\n",
            "Drop D\r\n",
            "Open C Major\r\n",
            "Open D Major\r\n",
            "Open E - 1 Major\r\n",
            "Open E - 2 Minor\r\n",
            "Open G - 1 Major\r\n",
            "Open G - 2 Minor\r\n",
            "Open A Major\r\n",
            "Renaissance\r\n",
            "Baroque 1\r\n",
            "Baroque 2\r\n",
            "12-String\r\n"
          ]
        }
      ],
      "source": [
        "#r \"nuget:FSharp.Configuration,2.0.0\"\n",
        "#r \"nuget:GuitarAlchemist.GA.Business.Core,*-*\"\n",
        "\n",
        "using GA.Business.Config;\n",
        "\n",
        "var instrument = Instruments.Instrument.Guitar;\n",
        "\n",
        "foreach (var prop in instrument.GetType().GetProperties())\n",
        "{\n",
        "    Console.WriteLine(prop.Name);\n",
        "}\n"
      ]
    }
  ],
  "metadata": {
    "kernelspec": {
      "display_name": ".NET (C#)",
      "language": "C#",
      "name": ".net-csharp"
    },
    "language_info": {
      "file_extension": ".cs",
      "mimetype": "text/x-csharp",
      "name": "C#",
      "pygments_lexer": "csharp",
      "version": "8.0"
    }
  },
  "nbformat": 4,
  "nbformat_minor": 4
}
