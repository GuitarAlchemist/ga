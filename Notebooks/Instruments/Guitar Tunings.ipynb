{
  "cells": [
    {
      "cell_type": "code",
      "execution_count": 1,
      "metadata": {
        "dotnet_interactive": {
          "language": "csharp"
        }
      },
      "source": [
        "#r \"nuget:FSharp.Configuration,2.0.0\"\n",
        "#r \"nuget:GuitarAlchemist.GA.Business.Core,*-*\"\n",
        "\n",
        "using GA.Business.Config;\n",
        "\n",
        "var instrument = Config.Tuning.Guitar;\n",
        "\n",
        "foreach (var prop in instrument.GetType().GetProperties())\n",
        "{\n",
        "    Console.WriteLine(prop.Name);\n",
        "}\n",
        ""
      ],
      "outputs": [
        {
          "output_type": "execute_result",
          "data": {
            "text/html": "<div><div></div><div></div><div><strong>Installed Packages</strong><ul><li><span>FSharp.Configuration, 3.0.0-beta1</span></li><li><span>GuitarAlchemist.GA.Business.Core, 1.0.5</span></li></ul></div></div>"
          },
          "execution_count": 1,
          "metadata": {}
        },
        {
          "output_type": "error",
          "ename": "",
          "evalue": "System.TypeInitializationException: The type initializer for '<StartupCode$GA-Business-Config>.$TuningsConfig' threw an exception.\r\n ---> System.IO.FileNotFoundException: Could not load file or assembly 'YamlDotNet, Version=12.0.0.0, Culture=neutral, PublicKeyToken=ec19458f3c15af5e'. The system cannot find the file specified.\r\nFile name: 'YamlDotNet, Version=12.0.0.0, Culture=neutral, PublicKeyToken=ec19458f3c15af5e'\r\n   at FSharp.Configuration.Yaml.Root..ctor(Boolean inferTypesFromStrings)\r\n   at GA.Business.Config.Config.TuningsConfig..ctor()\r\n   at <StartupCode$GA-Business-Config>.$TuningsConfig..cctor() in /_//Common/GA.Business.Config/TuningsConfig.fs:line 7\r\n   --- End of inner exception stack trace ---\r\n   at GA.Business.Config.Config.get_Tuning()\r\n   at Submission#2.<<Initialize>>d__0.MoveNext()\r\n--- End of stack trace from previous location ---\r\n   at Microsoft.CodeAnalysis.Scripting.ScriptExecutionState.RunSubmissionsAsync[TResult](ImmutableArray`1 precedingExecutors, Func`2 currentExecutor, StrongBox`1 exceptionHolderOpt, Func`2 catchExceptionOpt, CancellationToken cancellationToken)",
          "traceback": [
            null
          ]
        }
      ]
    }
  ],
  "metadata": {
    "kernelspec": {
      "display_name": ".NET (C#)",
      "language": "C#",
      "name": ".net-csharp"
    },
    "language_info": {
      "file_extension": ".cs",
      "mimetype": "text/x-csharp",
      "name": "C#",
      "pygments_lexer": "csharp",
      "version": "8.0"
    }
  },
  "nbformat": 4,
  "nbformat_minor": 4
}