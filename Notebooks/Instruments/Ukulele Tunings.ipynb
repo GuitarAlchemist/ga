{
  "cells": [
    {
      "cell_type": "code",
      "execution_count": 2,
      "metadata": {
        "dotnet_interactive": {
          "language": "csharp"
        },
        "vscode": {
          "languageId": "dotnet-interactive.csharp"
        }
      },
      "outputs": [
        {
          "data": {
            "text/html": [
              "<div><div></div><div></div><div><strong>Installed Packages</strong><ul><li><span>GuitarAlchemist.GA.Business.Core, 1.0.6-alpha-2</span></li></ul></div></div>"
            ]
          },
          "metadata": {},
          "output_type": "display_data"
        },
        {
          "name": "stdout",
          "output_type": "stream",
          "text": [
            "Soprano, Concert & Tenor C\r\n",
            "Soprano, Concert & Tenor D\r\n",
            "Baritone\r\n",
            "Tahitian\r\n",
            "Ukulele Banjo or Banjolele C\r\n",
            "Ukulele Banjo or Banjolele D\r\n"
          ]
        }
      ],
      "source": [
        "#r \"nuget:GuitarAlchemist.GA.Business.Core,1.0.6-alpha-2\"\n",
        "\n",
        "using GA.Business.Config;\n",
        "\n",
        "var instrument = Instruments.Instrument.Ukulele;\n",
        "\n",
        "foreach (var prop in instrument.GetType().GetProperties())\n",
        "{\n",
        "    Console.WriteLine(prop.Name);\n",
        "\n",
        "\n",
        "}\n"
      ]
    }
  ],
  "metadata": {
    "kernelspec": {
      "display_name": ".NET (C#)",
      "language": "C#",
      "name": ".net-csharp"
    },
    "language_info": {
      "file_extension": ".cs",
      "mimetype": "text/x-csharp",
      "name": "C#",
      "pygments_lexer": "csharp",
      "version": "8.0"
    }
  },
  "nbformat": 4,
  "nbformat_minor": 4
}
