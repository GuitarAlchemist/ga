{
  "cells": [
    {
      "cell_type": "code",
      "execution_count": 1,
      "metadata": {
        "dotnet_interactive": {
          "language": "csharp"
        }
      },
      "source": [
        "#r \"nuget:GuitarAlchemist.GA.Business.Core,*-*\"\n",
        "\n",
        "using GA.Business.Config;\n",
        "\n",
        "var instrument = Instruments.Instrument.Ukulele;\n",
        "\n",
        "foreach (var prop in instrument.GetType().GetProperties())\n",
        "{\n",
        "    Console.WriteLine(prop.Name);\n",
        "}"
      ],
      "outputs": [
        {
          "output_type": "execute_result",
          "data": {
            "text/html": "<div><div></div><div></div><div><strong>Installed Packages</strong><ul><li><span>GuitarAlchemist.GA.Business.Core, 1.0.6-alpha-2</span></li></ul></div></div>"
          },
          "execution_count": 1,
          "metadata": {}
        },
        {
          "output_type": "execute_result",
          "data": {
            "text/plain": "GA.Business.Config.Instruments+Config+Ukulele_Type+Ukulele Banjo or Banjolele D_Type\r\n"
          },
          "execution_count": 1,
          "metadata": {}
        }
      ]
    }
  ],
  "metadata": {
    "kernelspec": {
      "display_name": ".NET (C#)",
      "language": "C#",
      "name": ".net-csharp"
    },
    "language_info": {
      "file_extension": ".cs",
      "mimetype": "text/x-csharp",
      "name": "C#",
      "pygments_lexer": "csharp",
      "version": "8.0"
    }
  },
  "nbformat": 4,
  "nbformat_minor": 4
}