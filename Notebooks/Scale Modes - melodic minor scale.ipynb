{
  "cells": [
    {
      "cell_type": "code",
      "execution_count": 1,
      "metadata": {
        "dotnet_interactive": {
          "language": "csharp"
        }
      },
      "source": [
        "#r \"nuget:GuitarAlchemist.GA.Business.Core,*-*\"\n",
        "\n",
        "using System.Collections.Immutable;\n",
        "using GA.Business.Core.Tonal.Modes;\n",
        "\n",
        "foreach (var mode in MelodicMinorMode.Objects)\n",
        "{\n",
        "    Console.WriteLine($@\"{mode.Name} mode\");\n",
        "    Console.WriteLine($@\"All notes   : {mode.Notes}\");\n",
        "    Console.WriteLine($@\"Color notes : {mode.ColorNotes}\");\n",
        "    Console.WriteLine($@\"Formula     : {mode.Formula}\");\n",
        "    Console.WriteLine();       \n",
        "}\n",
        ""
      ],
      "outputs": [
        {
          "output_type": "execute_result",
          "data": {
            "text/html": "<div><div></div><div></div><div><strong>Installed Packages</strong><ul><li><span>GuitarAlchemist.GA.Business.Core, 1.0.4</span></li></ul></div></div>"
          },
          "execution_count": 1,
          "metadata": {}
        },
        {
          "output_type": "execute_result",
          "data": {
            "text/plain": "\r\n"
          },
          "execution_count": 1,
          "metadata": {}
        }
      ]
    }
  ],
  "metadata": {
    "kernelspec": {
      "display_name": ".NET (C#)",
      "language": "C#",
      "name": ".net-csharp"
    },
    "language_info": {
      "file_extension": ".cs",
      "mimetype": "text/x-csharp",
      "name": "C#",
      "pygments_lexer": "csharp",
      "version": "8.0"
    }
  },
  "nbformat": 4,
  "nbformat_minor": 4
}