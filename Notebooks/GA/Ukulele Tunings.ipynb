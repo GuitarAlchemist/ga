{
  "cells": [
    {
      "cell_type": "code",
      "execution_count": 1,
      "metadata": {
        "dotnet_interactive": {
          "language": "csharp"
        },
        "vscode": {
          "languageId": "polyglot-notebook"
        }
      },
      "outputs": [
        {
          "data": {
            "text/html": [
              "<div><div></div><div></div><div></div></div>"
            ]
          },
          "metadata": {},
          "output_type": "display_data"
        },
        {
          "ename": "Error",
          "evalue": "C:\\Users\\spare\\.packagemanagement\\nuget\\Projects\\42988--c1aaa8e4-2759-4ccd-8d72-4e63805c7ddd\\Project.fsproj : error NU1101: Unable to find package GA.Core. No packages exist with this id in source(s): C:\\Program Files\\dotnet\\library-packs, C:\\Program Files\\dotnet\\sdk\\8.0.202\\FSharp\\library-packs, Nuget.org",
          "output_type": "error",
          "traceback": [
            "C:\\Users\\spare\\.packagemanagement\\nuget\\Projects\\42988--c1aaa8e4-2759-4ccd-8d72-4e63805c7ddd\\Project.fsproj : error NU1101: Unable to find package GA.Core. No packages exist with this id in source(s): C:\\Program Files\\dotnet\\library-packs, C:\\Program Files\\dotnet\\sdk\\8.0.202\\FSharp\\library-packs, Nuget.org"
          ]
        }
      ],
      "source": [
        "#r \"nuget:GuitarAlchemist.GA.Business.Core\"\n",
        "\n",
        "using GA.Business.Config;\n",
        "\n",
        "var instrument = Instruments.Instrument.Ukulele;\n",
        "\n",
        "foreach (var prop in instrument.GetType().GetProperties())\n",
        "{\n",
        "    Console.WriteLine(prop.Name);\n",
        "\n",
        "\n",
        "}"
      ]
    }
  ],
  "metadata": {
    "kernelspec": {
      "display_name": ".NET (C#)",
      "language": "C#",
      "name": ".net-csharp"
    },
    "language_info": {
      "file_extension": ".cs",
      "mimetype": "text/x-csharp",
      "name": "C#",
      "pygments_lexer": "csharp",
      "version": "8.0"
    }
  },
  "nbformat": 4,
  "nbformat_minor": 4
}
