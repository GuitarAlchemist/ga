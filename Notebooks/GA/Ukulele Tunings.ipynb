{
  "cells": [
    {
      "cell_type": "code",
      "execution_count": 3,
      "metadata": {
        "dotnet_interactive": {
          "language": "csharp"
        },
        "vscode": {
          "languageId": "polyglot-notebook"
        }
      },
      "outputs": [
        {
          "data": {
            "text/html": [
              "<div><div></div><div></div><div><strong>Installed Packages</strong><ul><li><span>fsharp.configuration, 2.0.0</span></li><li><span>GuitarAlchemist.GA.Interactive, 1.0.1-beta4</span></li></ul></div></div>"
            ]
          },
          "metadata": {},
          "output_type": "display_data"
        },
        {
          "data": {
            "text/html": [
              "<details open=\"open\" class=\"dni-treeview\"><summary><span class=\"dni-code-hint\"><code>GA.Business.Config.Instruments+Config+Ukulele_Type</code></span></summary><div><table><thead><tr></tr></thead><tbody><tr><td>SopranoConcertAndTenorC</td><td><details class=\"dni-treeview\"><summary><span class=\"dni-code-hint\"><code>GA.Business.Config.Instruments+Config+Ukulele_Type+SopranoConcertAndTenorC_Type</code></span></summary><div><table><thead><tr></tr></thead><tbody><tr><td>FullName</td><td><div class=\"dni-plaintext\"><pre>Soprano C, Concert &amp; Tenor C</pre></div></td></tr><tr><td>Tuning</td><td><div class=\"dni-plaintext\"><pre>C6 G4 C4 E4 A4</pre></div></td></tr></tbody></table></div></details></td></tr><tr><td>SopranoConcertAndTenorD</td><td><details class=\"dni-treeview\"><summary><span class=\"dni-code-hint\"><code>GA.Business.Config.Instruments+Config+Ukulele_Type+SopranoConcertAndTenorD_Type</code></span></summary><div><table><thead><tr></tr></thead><tbody><tr><td>FullName</td><td><div class=\"dni-plaintext\"><pre>Soprano, Concert &amp; Tenor D</pre></div></td></tr><tr><td>Tuning</td><td><div class=\"dni-plaintext\"><pre>D6 A4 D4 F#4 B4</pre></div></td></tr></tbody></table></div></details></td></tr><tr><td>Baritone</td><td><details class=\"dni-treeview\"><summary><span class=\"dni-code-hint\"><code>GA.Business.Config.Instruments+Config+Ukulele_Type+Baritone_Type</code></span></summary><div><table><thead><tr></tr></thead><tbody><tr><td>Tuning</td><td><div class=\"dni-plaintext\"><pre>D4 G3 B4 E4</pre></div></td></tr></tbody></table></div></details></td></tr><tr><td>Tahitian</td><td><details class=\"dni-treeview\"><summary><span class=\"dni-code-hint\"><code>GA.Business.Config.Instruments+Config+Ukulele_Type+Tahitian_Type</code></span></summary><div><table><thead><tr></tr></thead><tbody><tr><td>Tuning</td><td><div class=\"dni-plaintext\"><pre>G4 G4 C5 C5 E5 E5 A4 A4</pre></div></td></tr></tbody></table></div></details></td></tr><tr><td>BanjoOrBanjoleteC</td><td><details class=\"dni-treeview\"><summary><span class=\"dni-code-hint\"><code>GA.Business.Config.Instruments+Config+Ukulele_Type+BanjoOrBanjoleteC_Type</code></span></summary><div><table><thead><tr></tr></thead><tbody><tr><td>FullName</td><td><div class=\"dni-plaintext\"><pre>Ukulele Banjo or Banjolele C</pre></div></td></tr><tr><td>Tuning</td><td><div class=\"dni-plaintext\"><pre>C6 G4 C4 E4 A4</pre></div></td></tr></tbody></table></div></details></td></tr><tr><td>BanjoOrBanjoleteD</td><td><details class=\"dni-treeview\"><summary><span class=\"dni-code-hint\"><code>GA.Business.Config.Instruments+Config+Ukulele_Type+BanjoOrBanjoleteD_Type</code></span></summary><div><table><thead><tr></tr></thead><tbody><tr><td>FullName</td><td><div class=\"dni-plaintext\"><pre>Ukulele Banjo or Banjolele D</pre></div></td></tr><tr><td>Tuning</td><td><div class=\"dni-plaintext\"><pre>D6 A4 D4 F#4 B4</pre></div></td></tr></tbody></table></div></details></td></tr></tbody></table></div></details><style>\r\n",
              ".dni-code-hint {\r\n",
              "    font-style: italic;\r\n",
              "    overflow: hidden;\r\n",
              "    white-space: nowrap;\r\n",
              "}\r\n",
              ".dni-treeview {\r\n",
              "    white-space: nowrap;\r\n",
              "}\r\n",
              ".dni-treeview td {\r\n",
              "    vertical-align: top;\r\n",
              "    text-align: start;\r\n",
              "}\r\n",
              "details.dni-treeview {\r\n",
              "    padding-left: 1em;\r\n",
              "}\r\n",
              "table td {\r\n",
              "    text-align: start;\r\n",
              "}\r\n",
              "table tr { \r\n",
              "    vertical-align: top; \r\n",
              "    margin: 0em 0px;\r\n",
              "}\r\n",
              "table tr td pre \r\n",
              "{ \r\n",
              "    vertical-align: top !important; \r\n",
              "    margin: 0em 0px !important;\r\n",
              "} \r\n",
              "table th {\r\n",
              "    text-align: start;\r\n",
              "}\r\n",
              "</style>"
            ]
          },
          "metadata": {},
          "output_type": "display_data"
        }
      ],
      "source": [
        "#r \"nuget:FSharp.Configuration,2.0.0\"\n",
        "#r \"nuget:GuitarAlchemist.GA.Interactive,*-*\"\n",
        "\n",
        "using GA.Business.Config;\n",
        "\n",
        "var instrument = Instruments.Instrument.Ukulele;\n",
        "\n",
        "instrument.Display();"
      ]
    }
  ],
  "metadata": {
    "kernelspec": {
      "display_name": ".NET (C#)",
      "language": "C#",
      "name": ".net-csharp"
    },
    "language_info": {
      "file_extension": ".cs",
      "mimetype": "text/x-csharp",
      "name": "C#",
      "pygments_lexer": "csharp",
      "version": "8.0"
    }
  },
  "nbformat": 4,
  "nbformat_minor": 4
}
