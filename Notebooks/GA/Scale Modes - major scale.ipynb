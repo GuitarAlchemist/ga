{
  "cells": [
    {
      "cell_type": "code",
      "execution_count": null,
      "metadata": {
        "dotnet_interactive": {
          "language": "csharp"
        },
        "vscode": {
          "languageId": "polyglot-notebook"
        }
      },
      "outputs": [],
      "source": [
        "#r \"nuget:FSharp.Configuration,2.0.0\"\n",
        "#r \"nuget:GuitarAlchemist.GA.Interactive,*-*\"\n",
        "\n",
        "using System.Collections.Immutable;\n",
        "using GA.Business.Core.Tonal.Modes;\n",
        "\n",
        "foreach (var mode in MajorScaleMode.Items)\n",
        "{\n",
        "    Console.WriteLine($@\"{mode.Name} mode\");\n",
        "    Console.WriteLine($@\"All notes   : {mode.Notes}\");\n",
        "    Console.WriteLine($@\"Color notes : {mode.ColorNotes}\");\n",
        "    Console.WriteLine($@\"Formula     : {mode.Formula}\");\n",
        "    Console.WriteLine();       \n",
        "}\n"
      ]
    }
  ],
  "metadata": {
    "kernelspec": {
      "display_name": ".NET (C#)",
      "language": "C#",
      "name": ".net-csharp"
    },
    "language_info": {
      "file_extension": ".cs",
      "mimetype": "text/x-csharp",
      "name": "C#",
      "pygments_lexer": "csharp",
      "version": "8.0"
    }
  },
  "nbformat": 4,
  "nbformat_minor": 4
}
