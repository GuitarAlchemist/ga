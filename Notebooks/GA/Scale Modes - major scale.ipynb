{
  "cells": [
    {
      "cell_type": "code",
      "execution_count": 1,
      "metadata": {
        "dotnet_interactive": {
          "language": "csharp"
        },
        "vscode": {
          "languageId": "polyglot-notebook"
        }
      },
      "outputs": [
        {
          "data": {
            "text/html": [
              "<div><div></div><div></div><div><strong>Installed Packages</strong><ul><li><span>FSharp.Configuration, 2.0.0</span></li><li><span>GuitarAlchemist.GA.Interactive, 1.0.1-beta4</span></li></ul></div></div>"
            ]
          },
          "metadata": {},
          "output_type": "display_data"
        },
        {
          "data": {
            "text/plain": [
              "Loading extensions from `C:\\Users\\spare\\.nuget\\packages\\guitaralchemist.ga.interactive\\1.0.1-beta4\\interactive-extensions\\dotnet\\GA.InteractiveExtension.dll`"
            ]
          },
          "metadata": {},
          "output_type": "display_data"
        },
        {
          "data": {
            "text/html": [
              "<pre style=\"font-family: monospace\">   ____       _ _                  _    _      _                    _     _   \r\n",
              "  / ___|_   _(_) |_ __ _ _ __     / \\  | | ___| |__   ___ _ __ ___ (_)___| |_ \r\n",
              " | |  _| | | | | __/ _` | '__|   / _ \\ | |/ __| '_ \\ / _ \\ '_ ` _ \\| / __| __|\r\n",
              " | |_| | |_| | | || (_| | |     / ___ \\| | (__| | | |  __/ | | | | | \\__ \\ |_ \r\n",
              "  \\____|\\__,_|_|\\__\\__,_|_|    /_/   \\_\\_|\\___|_| |_|\\___|_| |_| |_|_|___/\\__|\r\n",
              "                                                                              \r\n",
              "</pre>"
            ]
          },
          "metadata": {},
          "output_type": "display_data"
        },
        {
          "data": {
            "text/html": [
              "<details>\r\n",
              "    <summary>\r\n",
              "        Renders Guitar Alchemist objects in dotnet-interactive notebooks\r\n",
              "        (79 formatters registered)\r\n",
              "    </summary>\r\n",
              "    <p>GA.Business.Core.Tonal.KeyMode</p><p>GA.Business.Core.Tonal.KeySignature</p><p>GA.Business.Core.Tonal.Primitives.HarmonicMinorScaleDegree</p><p>GA.Business.Core.Tonal.Primitives.MajorPentatonicScaleDegree</p><p>GA.Business.Core.Tonal.Primitives.MajorScaleDegree</p><p>GA.Business.Core.Tonal.Primitives.MelodicMinorScaleDegree</p><p>GA.Business.Core.Tonal.Primitives.NaturalMinorScaleDegree</p><p>GA.Business.Core.Tonal.Primitives.ScaleDegreeFunction</p><p>GA.Business.Core.Tonal.Modes.HarmonicMinorMode</p><p>GA.Business.Core.Tonal.Modes.MajorPentatonicMode</p><p>GA.Business.Core.Tonal.Modes.MajorScaleMode</p><p>GA.Business.Core.Tonal.Modes.MelodicMinorMode</p><p>GA.Business.Core.Tonal.Modes.NaturalMinorMode</p><p>GA.Business.Core.Scales.Scale</p><p>GA.Business.Core.Notes.AccidentedNotePair</p><p>GA.Business.Core.Notes.NaturalNotePair</p><p>GA.Business.Core.Notes.PitchCollection</p><p>GA.Business.Core.Notes.PitchCollectionParseException</p><p>GA.Business.Core.Notes.Primitives.FlatAccidental</p><p>GA.Business.Core.Notes.Primitives.MidiNote</p><p>GA.Business.Core.Notes.Primitives.NaturalNote</p><p>GA.Business.Core.Notes.Primitives.SharpAccidental</p><p>GA.Business.Core.Intervals.ModeCompoundInterval</p><p>GA.Business.Core.Intervals.ModeFormula</p><p>GA.Business.Core.Intervals.ModeInterval</p><p>GA.Business.Core.Intervals.Octave</p><p>GA.Business.Core.Intervals.Primitives.Accidental</p><p>GA.Business.Core.Intervals.Primitives.AccidentalKind</p><p>GA.Business.Core.Intervals.Primitives.CompoundIntervalSize</p><p>GA.Business.Core.Intervals.Primitives.IntervalQuality</p><p>GA.Business.Core.Intervals.Primitives.IntervalSize</p><p>GA.Business.Core.Intervals.Primitives.IntervalSizeConsonance</p><p>GA.Business.Core.Intervals.Primitives.Semitones</p><p>GA.Business.Core.Fretboard.Fretboard</p><p>GA.Business.Core.Fretboard.Tuning</p><p>GA.Business.Core.Fretboard.Primitives.Fret</p><p>GA.Business.Core.Fretboard.Primitives.FretVector</p><p>GA.Business.Core.Fretboard.Primitives.RelativeFret</p><p>GA.Business.Core.Fretboard.Primitives.Str</p><p>GA.Business.Core.Fretboard.Positions.MutedPositionCollection</p><p>GA.Business.Core.Fretboard.Positions.PlayedPositionCollection</p><p>GA.Business.Core.Fretboard.Positions.PositionCollection</p><p>GA.Business.Core.Fretboard.Positions.PositionLocation</p><p>GA.Business.Core.Fretboard.Positions.PositionLocationSet</p><p>GA.Business.Core.Fretboard.Positions.RelativePositionLocation</p><p>GA.Business.Core.Fretboard.Fingering.Finger</p><p>GA.Business.Core.Fretboard.Fingering.FingerCount</p><p>GA.Business.Core.Fretboard.Engine.KeyFretPositions</p><p>GA.Business.Core.Fretboard.Engine.KeyPosition</p><p>GA.Business.Core.Fretboard.Engine.KeyPositionCollection</p><p>GA.Business.Core.Extensions.ScaleIntervalPattern</p><p>GA.Business.Core.Atonal.ForteNumber</p><p>GA.Business.Core.Atonal.IntervalClassVector</p><p>GA.Business.Core.Atonal.ModalFamily</p><p>GA.Business.Core.Atonal.PitchClass</p><p>GA.Business.Core.Atonal.PitchClassSet</p><p>GA.Business.Core.Atonal.PitchClassSetOrder</p><p>GA.Business.Core.Atonal.Primitives.Cardinality</p><p>GA.Business.Core.Atonal.Primitives.IntervalClass</p><p>GA.Business.Core.Atonal.Primitives.PitchClassSetIdentity</p><p>GA.Business.Core.Tonal.Key+Major</p><p>GA.Business.Core.Tonal.Key+Minor</p><p>GA.Business.Core.Scales.Scale+LazyScaleIntervals</p><p>GA.Business.Core.Notes.Note+Chromatic</p><p>GA.Business.Core.Notes.Note+Sharp</p><p>GA.Business.Core.Notes.Note+Flat</p><p>GA.Business.Core.Notes.Note+AccidentedNote</p><p>GA.Business.Core.Notes.Pitch+Chromatic</p><p>GA.Business.Core.Notes.Pitch+Sharp</p><p>GA.Business.Core.Notes.Pitch+Flat</p><p>GA.Business.Core.Intervals.Interval+Chromatic</p><p>GA.Business.Core.Fretboard.FretboardConsoleRenderer+Options</p><p>GA.Business.Core.Fretboard.FretboardTextWriterRenderer+Options</p><p>GA.Business.Core.Fretboard.Primitives.Position+Muted</p><p>GA.Business.Core.Fretboard.Primitives.Position+Played</p><p>GA.Business.Core.Fretboard.Primitives.RelativeFretVector+PrimeForm</p><p>GA.Business.Core.Fretboard.Primitives.RelativeFretVector+Translation</p><p>GA.Business.Core.Fretboard.Positions.VariationsRelativeFretVectorFactory+OrderedTranslationCollection</p><p>GA.Business.Core.Notes.Note+AccidentedNote+AllNotes</p>\r\n",
              "</details>    "
            ]
          },
          "metadata": {},
          "output_type": "display_data"
        },
        {
          "name": "stdout",
          "output_type": "stream",
          "text": [
            "Ionian mode\n",
            "All notes   : C D E F G A B\n",
            "Color notes : \n",
            "Formula     :   1   2   3   4   5   6   7\n",
            "\n",
            "Dorian mode\n",
            "All notes   : D E F G A B C\n"
          ]
        },
        {
          "ename": "Error",
          "evalue": "System.ArgumentException: An element with the same key but a different value already exists. Key: '2'\r\n   at System.Collections.Immutable.ImmutableDictionary`2.HashBucket.Add(TKey key, TValue value, IEqualityComparer`1 keyOnlyComparer, IEqualityComparer`1 valueComparer, KeyCollisionBehavior behavior, OperationResult& result)\r\n   at System.Collections.Immutable.ImmutableDictionary`2.AddRange(IEnumerable`1 items, MutationInput origin, KeyCollisionBehavior collisionBehavior)\r\n   at System.Collections.Immutable.ImmutableDictionary`2.AddRange(IEnumerable`1 pairs, Boolean avoidToHashMap)\r\n   at System.Collections.Immutable.ImmutableDictionary`2.AddRange(IEnumerable`1 pairs)\r\n   at System.Collections.Immutable.ImmutableDictionary.ToImmutableDictionary[TSource,TKey,TValue](IEnumerable`1 source, Func`2 keySelector, Func`2 elementSelector, IEqualityComparer`1 keyComparer, IEqualityComparer`1 valueComparer)\r\n   at System.Collections.Immutable.ImmutableDictionary.ToImmutableDictionary[TSource,TKey,TValue](IEnumerable`1 source, Func`2 keySelector, Func`2 elementSelector)\r\n   at GA.Business.Core.Tonal.Modes.ScaleMode.ModeColorNotes(IEnumerable`1 colorTones) in /_/Common/GA.Business.Core/Tonal/Modes/ScaleMode.cs:line 46\r\n   at GA.Business.Core.Tonal.Modes.ScaleMode.<.ctor>b__2_1() in /_/Common/GA.Business.Core/Tonal/Modes/ScaleMode.cs:line 23\r\n   at System.Lazy`1.ViaFactory(LazyThreadSafetyMode mode)\r\n   at System.Lazy`1.ExecutionAndPublication(LazyHelper executionAndPublication, Boolean useDefaultConstructor)\r\n   at System.Lazy`1.CreateValue()\r\n   at GA.Business.Core.Tonal.Modes.ScaleMode.get_ColorNotes() in /_/Common/GA.Business.Core/Tonal/Modes/ScaleMode.cs:line 32\r\n   at Submission#2.<<Initialize>>d__0.MoveNext()\r\n--- End of stack trace from previous location ---\r\n   at Microsoft.CodeAnalysis.Scripting.ScriptExecutionState.RunSubmissionsAsync[TResult](ImmutableArray`1 precedingExecutors, Func`2 currentExecutor, StrongBox`1 exceptionHolderOpt, Func`2 catchExceptionOpt, CancellationToken cancellationToken)",
          "output_type": "error",
          "traceback": [
            "System.ArgumentException: An element with the same key but a different value already exists. Key: '2'\r\n",
            "   at System.Collections.Immutable.ImmutableDictionary`2.HashBucket.Add(TKey key, TValue value, IEqualityComparer`1 keyOnlyComparer, IEqualityComparer`1 valueComparer, KeyCollisionBehavior behavior, OperationResult& result)\r\n",
            "   at System.Collections.Immutable.ImmutableDictionary`2.AddRange(IEnumerable`1 items, MutationInput origin, KeyCollisionBehavior collisionBehavior)\r\n",
            "   at System.Collections.Immutable.ImmutableDictionary`2.AddRange(IEnumerable`1 pairs, Boolean avoidToHashMap)\r\n",
            "   at System.Collections.Immutable.ImmutableDictionary`2.AddRange(IEnumerable`1 pairs)\r\n",
            "   at System.Collections.Immutable.ImmutableDictionary.ToImmutableDictionary[TSource,TKey,TValue](IEnumerable`1 source, Func`2 keySelector, Func`2 elementSelector, IEqualityComparer`1 keyComparer, IEqualityComparer`1 valueComparer)\r\n",
            "   at System.Collections.Immutable.ImmutableDictionary.ToImmutableDictionary[TSource,TKey,TValue](IEnumerable`1 source, Func`2 keySelector, Func`2 elementSelector)\r\n",
            "   at GA.Business.Core.Tonal.Modes.ScaleMode.ModeColorNotes(IEnumerable`1 colorTones) in /_/Common/GA.Business.Core/Tonal/Modes/ScaleMode.cs:line 46\r\n",
            "   at GA.Business.Core.Tonal.Modes.ScaleMode.<.ctor>b__2_1() in /_/Common/GA.Business.Core/Tonal/Modes/ScaleMode.cs:line 23\r\n",
            "   at System.Lazy`1.ViaFactory(LazyThreadSafetyMode mode)\r\n",
            "   at System.Lazy`1.ExecutionAndPublication(LazyHelper executionAndPublication, Boolean useDefaultConstructor)\r\n",
            "   at System.Lazy`1.CreateValue()\r\n",
            "   at GA.Business.Core.Tonal.Modes.ScaleMode.get_ColorNotes() in /_/Common/GA.Business.Core/Tonal/Modes/ScaleMode.cs:line 32\r\n",
            "   at Submission#2.<<Initialize>>d__0.MoveNext()\r\n",
            "--- End of stack trace from previous location ---\r\n",
            "   at Microsoft.CodeAnalysis.Scripting.ScriptExecutionState.RunSubmissionsAsync[TResult](ImmutableArray`1 precedingExecutors, Func`2 currentExecutor, StrongBox`1 exceptionHolderOpt, Func`2 catchExceptionOpt, CancellationToken cancellationToken)"
          ]
        }
      ],
      "source": [
        "#r \"nuget:FSharp.Configuration,2.0.0\"\n",
        "#r \"nuget:GuitarAlchemist.GA.Interactive,*-*\"\n",
        "\n",
        "using System.Collections.Immutable;\n",
        "using GA.Business.Core.Tonal.Modes;\n",
        "\n",
        "foreach (var mode in MajorScaleMode.Items)\n",
        "{\n",
        "    Console.WriteLine($@\"{mode.Name} mode\");\n",
        "    Console.WriteLine($@\"All notes   : {mode.Notes}\");\n",
        "    Console.WriteLine($@\"Color notes : {mode.ColorNotes}\");\n",
        "    Console.WriteLine($@\"Formula     : {mode.Formula}\");\n",
        "    Console.WriteLine();       \n",
        "}\n"
      ]
    }
  ],
  "metadata": {
    "kernelspec": {
      "display_name": ".NET (C#)",
      "language": "C#",
      "name": ".net-csharp"
    },
    "language_info": {
      "file_extension": ".cs",
      "mimetype": "text/x-csharp",
      "name": "C#",
      "pygments_lexer": "csharp",
      "version": "8.0"
    }
  },
  "nbformat": 4,
  "nbformat_minor": 4
}
