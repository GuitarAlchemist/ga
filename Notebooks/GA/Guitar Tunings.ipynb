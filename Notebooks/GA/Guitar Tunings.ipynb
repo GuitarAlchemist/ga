{
  "cells": [
    {
      "cell_type": "code",
      "execution_count": 2,
      "metadata": {
        "dotnet_interactive": {
          "language": "csharp"
        },
        "vscode": {
          "languageId": "polyglot-notebook"
        }
      },
      "outputs": [
        {
          "data": {
            "text/html": [
              "<div><div></div><div></div><div><strong>Installed Packages</strong><ul><li><span>FSharp.Configuration, 2.0.0</span></li><li><span>GuitarAlchemist.GA.Interactive, 1.0.1-beta4</span></li></ul></div></div>"
            ]
          },
          "metadata": {},
          "output_type": "display_data"
        },
        {
          "name": "stdout",
          "output_type": "stream",
          "text": [
            "Standard\n",
            "DADGAD\n",
            "Double Drop D\n",
            "DropD\n",
            "OpenCMajor\n",
            "OpenDMajor\n",
            "OpenEMajorV1\n",
            "OpenEMajorV2\n",
            "OpenGMajorV1\n",
            "OpenGMinorV2\n",
            "OpenAMajor\n",
            "Renaissance\n",
            "Baroque1\n",
            "Baroque2\n",
            "TwelveStrings\n"
          ]
        }
      ],
      "source": [
        "#r \"nuget:FSharp.Configuration,2.0.0\"\n",
        "#r \"nuget:GuitarAlchemist.GA.Interactive,*-*\"\n",
        "\n",
        "using GA.Business.Config;\n",
        "\n",
        "var instrument = Instruments.Instrument.Guitar;\n",
        "\n",
        "foreach (var prop in instrument.GetType().GetProperties())\n",
        "{\n",
        "    Console.WriteLine(prop.Name);\n",
        "}\n"
      ]
    }
  ],
  "metadata": {
    "kernelspec": {
      "display_name": ".NET (C#)",
      "language": "C#",
      "name": ".net-csharp"
    },
    "language_info": {
      "file_extension": ".cs",
      "mimetype": "text/x-csharp",
      "name": "C#",
      "pygments_lexer": "csharp",
      "version": "8.0"
    }
  },
  "nbformat": 4,
  "nbformat_minor": 4
}
