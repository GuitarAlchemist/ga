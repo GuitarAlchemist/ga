{
  "cells": [
    {
      "cell_type": "code",
      "execution_count": 2,
      "metadata": {
        "dotnet_interactive": {
          "language": "csharp"
        },
        "vscode": {
          "languageId": "polyglot-notebook"
        }
      },
      "outputs": [
        {
          "data": {
            "text/html": [
              "<div><div></div><div></div><div><strong>Installed Packages</strong><ul><li><span>FSharp.Configuration, 2.0.0</span></li><li><span>GuitarAlchemist.GA.Interactive, 1.0.1-beta4</span></li></ul></div></div>"
            ]
          },
          "metadata": {},
          "output_type": "display_data"
        },
        {
          "name": "stdout",
          "output_type": "stream",
          "text": [
            "MelodicMinorMode minor mode\n",
            "All notes   : A B C D E F♯ G♯\n"
          ]
        },
        {
          "ename": "Error",
          "evalue": "System.Collections.Generic.KeyNotFoundException: The given key '7' was not present in the dictionary.\r\n   at System.Collections.Immutable.ImmutableDictionary`2.get_Item(TKey key)\r\n   at GA.Core.Collections.Indexer`2.get_Item(TKey key) in /_/Common/GA.Core/Collections/Indexer.cs:line 9\r\n   at GA.Business.Core.Intervals.ModeFormula.<>c__DisplayClass10_0.<ModeIntervals>g__CreateModeInterval|0(Simple interval) in /_/Common/GA.Business.Core/Intervals/ModeFormula.cs:line 31\r\n   at System.Linq.Enumerable.SelectEnumerableIterator`2.ToArray()\r\n   at System.Collections.Immutable.ImmutableExtensions.FallbackWrapper`1.get_Count()\r\n   at System.Collections.Immutable.ImmutableList`1.CreateRange(IEnumerable`1 items)\r\n   at GA.Business.Core.Intervals.ModeFormula.ModeIntervals(ScaleMode mode) in /_/Common/GA.Business.Core/Intervals/ModeFormula.cs:line 36\r\n   at GA.Business.Core.Intervals.ModeFormula..ctor(ScaleMode mode) in /_/Common/GA.Business.Core/Intervals/ModeFormula.cs:line 11\r\n   at GA.Business.Core.Tonal.Modes.ScaleMode.<.ctor>b__2_0() in /_/Common/GA.Business.Core/Tonal/Modes/ScaleMode.cs:line 22\r\n   at System.Lazy`1.ViaFactory(LazyThreadSafetyMode mode)\r\n   at System.Lazy`1.ExecutionAndPublication(LazyHelper executionAndPublication, Boolean useDefaultConstructor)\r\n   at System.Lazy`1.CreateValue()\r\n   at GA.Business.Core.Tonal.Modes.ScaleMode.get_Formula() in /_/Common/GA.Business.Core/Tonal/Modes/ScaleMode.cs:line 31\r\n   at GA.Business.Core.Tonal.Modes.ScaleMode.<.ctor>b__2_1() in /_/Common/GA.Business.Core/Tonal/Modes/ScaleMode.cs:line 23\r\n   at System.Lazy`1.ViaFactory(LazyThreadSafetyMode mode)\r\n   at System.Lazy`1.ExecutionAndPublication(LazyHelper executionAndPublication, Boolean useDefaultConstructor)\r\n   at System.Lazy`1.CreateValue()\r\n   at GA.Business.Core.Tonal.Modes.ScaleMode.get_ColorNotes() in /_/Common/GA.Business.Core/Tonal/Modes/ScaleMode.cs:line 32\r\n   at Submission#3.<<Initialize>>d__0.MoveNext()\r\n--- End of stack trace from previous location ---\r\n   at Microsoft.CodeAnalysis.Scripting.ScriptExecutionState.RunSubmissionsAsync[TResult](ImmutableArray`1 precedingExecutors, Func`2 currentExecutor, StrongBox`1 exceptionHolderOpt, Func`2 catchExceptionOpt, CancellationToken cancellationToken)",
          "output_type": "error",
          "traceback": [
            "System.Collections.Generic.KeyNotFoundException: The given key '7' was not present in the dictionary.\r\n",
            "   at System.Collections.Immutable.ImmutableDictionary`2.get_Item(TKey key)\r\n",
            "   at GA.Core.Collections.Indexer`2.get_Item(TKey key) in /_/Common/GA.Core/Collections/Indexer.cs:line 9\r\n",
            "   at GA.Business.Core.Intervals.ModeFormula.<>c__DisplayClass10_0.<ModeIntervals>g__CreateModeInterval|0(Simple interval) in /_/Common/GA.Business.Core/Intervals/ModeFormula.cs:line 31\r\n",
            "   at System.Linq.Enumerable.SelectEnumerableIterator`2.ToArray()\r\n",
            "   at System.Collections.Immutable.ImmutableExtensions.FallbackWrapper`1.get_Count()\r\n",
            "   at System.Collections.Immutable.ImmutableList`1.CreateRange(IEnumerable`1 items)\r\n",
            "   at GA.Business.Core.Intervals.ModeFormula.ModeIntervals(ScaleMode mode) in /_/Common/GA.Business.Core/Intervals/ModeFormula.cs:line 36\r\n",
            "   at GA.Business.Core.Intervals.ModeFormula..ctor(ScaleMode mode) in /_/Common/GA.Business.Core/Intervals/ModeFormula.cs:line 11\r\n",
            "   at GA.Business.Core.Tonal.Modes.ScaleMode.<.ctor>b__2_0() in /_/Common/GA.Business.Core/Tonal/Modes/ScaleMode.cs:line 22\r\n",
            "   at System.Lazy`1.ViaFactory(LazyThreadSafetyMode mode)\r\n",
            "   at System.Lazy`1.ExecutionAndPublication(LazyHelper executionAndPublication, Boolean useDefaultConstructor)\r\n",
            "   at System.Lazy`1.CreateValue()\r\n",
            "   at GA.Business.Core.Tonal.Modes.ScaleMode.get_Formula() in /_/Common/GA.Business.Core/Tonal/Modes/ScaleMode.cs:line 31\r\n",
            "   at GA.Business.Core.Tonal.Modes.ScaleMode.<.ctor>b__2_1() in /_/Common/GA.Business.Core/Tonal/Modes/ScaleMode.cs:line 23\r\n",
            "   at System.Lazy`1.ViaFactory(LazyThreadSafetyMode mode)\r\n",
            "   at System.Lazy`1.ExecutionAndPublication(LazyHelper executionAndPublication, Boolean useDefaultConstructor)\r\n",
            "   at System.Lazy`1.CreateValue()\r\n",
            "   at GA.Business.Core.Tonal.Modes.ScaleMode.get_ColorNotes() in /_/Common/GA.Business.Core/Tonal/Modes/ScaleMode.cs:line 32\r\n",
            "   at Submission#3.<<Initialize>>d__0.MoveNext()\r\n",
            "--- End of stack trace from previous location ---\r\n",
            "   at Microsoft.CodeAnalysis.Scripting.ScriptExecutionState.RunSubmissionsAsync[TResult](ImmutableArray`1 precedingExecutors, Func`2 currentExecutor, StrongBox`1 exceptionHolderOpt, Func`2 catchExceptionOpt, CancellationToken cancellationToken)"
          ]
        }
      ],
      "source": [
        "#r \"nuget:FSharp.Configuration,2.0.0\"\n",
        "#r \"nuget:GuitarAlchemist.GA.Interactive,*-*\"\n",
        "\n",
        "using System.Collections.Immutable;\n",
        "using GA.Business.Core.Tonal.Modes;\n",
        "\n",
        "foreach (var mode in MelodicMinorMode.Items)\n",
        "{\n",
        "    Console.WriteLine($@\"{mode.Name} mode\");\n",
        "    Console.WriteLine($@\"All notes   : {mode.Notes}\");\n",
        "    Console.WriteLine($@\"Color notes : {mode.ColorNotes}\");\n",
        "    Console.WriteLine($@\"Formula     : {mode.Formula}\");\n",
        "    Console.WriteLine();       \n",
        "}\n"
      ]
    }
  ],
  "metadata": {
    "kernelspec": {
      "display_name": ".NET (C#)",
      "language": "C#",
      "name": ".net-csharp"
    },
    "language_info": {
      "file_extension": ".cs",
      "mimetype": "text/x-csharp",
      "name": "C#",
      "pygments_lexer": "csharp",
      "version": "8.0"
    }
  },
  "nbformat": 4,
  "nbformat_minor": 4
}
