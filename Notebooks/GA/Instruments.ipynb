{
  "cells": [
    {
      "cell_type": "code",
      "execution_count": 5,
      "metadata": {
        "dotnet_interactive": {
          "language": "csharp"
        },
        "vscode": {
          "languageId": "polyglot-notebook"
        }
      },
      "outputs": [
        {
          "data": {
            "text/html": [
              "<div><div></div><div></div><div><strong>Installed Packages</strong><ul><li><span>FSharp.Configuration, 2.0.0</span></li><li><span>GuitarAlchemist.GA.Interactive, 1.0.1-beta4</span></li></ul></div></div>"
            ]
          },
          "metadata": {},
          "output_type": "display_data"
        },
        {
          "data": {
            "text/html": [
              "<details open=\"open\" class=\"dni-treeview\"><summary><span class=\"dni-code-hint\"><code>GA.Business.Config.Instruments+Config+Guitar_Type</code></span></summary><div><table><thead><tr></tr></thead><tbody><tr><td>Standard</td><td><details class=\"dni-treeview\"><summary><span class=\"dni-code-hint\"><code>GA.Business.Config.Instruments+Config+Guitar_Type+Standard_Type</code></span></summary><div><table><thead><tr></tr></thead><tbody><tr><td>Tuning</td><td><div class=\"dni-plaintext\"><pre>E2 A2 D3 G3 B3 E4</pre></div></td></tr></tbody></table></div></details></td></tr><tr><td>DADGAD</td><td><details class=\"dni-treeview\"><summary><span class=\"dni-code-hint\"><code>GA.Business.Config.Instruments+Config+Guitar_Type+DADGAD_Type</code></span></summary><div><table><thead><tr></tr></thead><tbody><tr><td>Tuning</td><td><div class=\"dni-plaintext\"><pre>D2 A2 D3 G3 A3 D4</pre></div></td></tr></tbody></table></div></details></td></tr><tr><td>Double Drop D</td><td><details class=\"dni-treeview\"><summary><span class=\"dni-code-hint\"><code>GA.Business.Config.Instruments+Config+Guitar_Type+Double Drop D_Type</code></span></summary><div><table><thead><tr></tr></thead><tbody><tr><td>Tuning</td><td><div class=\"dni-plaintext\"><pre>D2 A2 D3 G3 B3 D4</pre></div></td></tr></tbody></table></div></details></td></tr><tr><td>DropD</td><td><details class=\"dni-treeview\"><summary><span class=\"dni-code-hint\"><code>GA.Business.Config.Instruments+Config+Guitar_Type+DropD_Type</code></span></summary><div><table><thead><tr></tr></thead><tbody><tr><td>FullName</td><td><div class=\"dni-plaintext\"><pre>Drop D</pre></div></td></tr><tr><td>Tuning</td><td><div class=\"dni-plaintext\"><pre>D2 A2 D3 G3 B3 E4</pre></div></td></tr></tbody></table></div></details></td></tr><tr><td>OpenCMajor</td><td><details class=\"dni-treeview\"><summary><span class=\"dni-code-hint\"><code>GA.Business.Config.Instruments+Config+Guitar_Type+OpenCMajor_Type</code></span></summary><div><table><thead><tr></tr></thead><tbody><tr><td>FullName</td><td><div class=\"dni-plaintext\"><pre>Open C Major</pre></div></td></tr><tr><td>Tuning</td><td><div class=\"dni-plaintext\"><pre>C2 G2 C3 G3 C3 E4</pre></div></td></tr></tbody></table></div></details></td></tr><tr><td>OpenDMajor</td><td><details class=\"dni-treeview\"><summary><span class=\"dni-code-hint\"><code>GA.Business.Config.Instruments+Config+Guitar_Type+OpenDMajor_Type</code></span></summary><div><table><thead><tr></tr></thead><tbody><tr><td>FullName</td><td><div class=\"dni-plaintext\"><pre>Open D Major</pre></div></td></tr><tr><td>Tuning</td><td><div class=\"dni-plaintext\"><pre>D2 A2 D3 F#3 A3 D4</pre></div></td></tr></tbody></table></div></details></td></tr><tr><td>OpenEMajorV1</td><td><details class=\"dni-treeview\"><summary><span class=\"dni-code-hint\"><code>GA.Business.Config.Instruments+Config+Guitar_Type+OpenEMajorV1_Type</code></span></summary><div><table><thead><tr></tr></thead><tbody><tr><td>FullName</td><td><div class=\"dni-plaintext\"><pre>Open E - 1 Major</pre></div></td></tr><tr><td>Tuning</td><td><div class=\"dni-plaintext\"><pre>E2 B2 E3 G#3 B3 E4</pre></div></td></tr></tbody></table></div></details></td></tr><tr><td>OpenEMajorV2</td><td><details class=\"dni-treeview\"><summary><span class=\"dni-code-hint\"><code>GA.Business.Config.Instruments+Config+Guitar_Type+OpenEMajorV2_Type</code></span></summary><div><table><thead><tr></tr></thead><tbody><tr><td>FullName</td><td><div class=\"dni-plaintext\"><pre>Open E - 2 Minor</pre></div></td></tr><tr><td>Tuning</td><td><div class=\"dni-plaintext\"><pre>E2 B2 E3 G3 B3 E4</pre></div></td></tr></tbody></table></div></details></td></tr><tr><td>OpenGMajorV1</td><td><details class=\"dni-treeview\"><summary><span class=\"dni-code-hint\"><code>GA.Business.Config.Instruments+Config+Guitar_Type+OpenGMajorV1_Type</code></span></summary><div><table><thead><tr></tr></thead><tbody><tr><td>FullName</td><td><div class=\"dni-plaintext\"><pre>Open G - 1 Major</pre></div></td></tr><tr><td>Tuning</td><td><div class=\"dni-plaintext\"><pre>D2 G2 D3 G3 B3 D4</pre></div></td></tr></tbody></table></div></details></td></tr><tr><td>OpenGMinorV2</td><td><details class=\"dni-treeview\"><summary><span class=\"dni-code-hint\"><code>GA.Business.Config.Instruments+Config+Guitar_Type+OpenGMinorV2_Type</code></span></summary><div><table><thead><tr></tr></thead><tbody><tr><td>FullName</td><td><div class=\"dni-plaintext\"><pre>Open G - 2 Minor</pre></div></td></tr><tr><td>Tuning</td><td><div class=\"dni-plaintext\"><pre>D2 G2 D3 G3 Bb3 D4</pre></div></td></tr></tbody></table></div></details></td></tr><tr><td>OpenAMajor</td><td><details class=\"dni-treeview\"><summary><span class=\"dni-code-hint\"><code>GA.Business.Config.Instruments+Config+Guitar_Type+OpenAMajor_Type</code></span></summary><div><table><thead><tr></tr></thead><tbody><tr><td>FullName</td><td><div class=\"dni-plaintext\"><pre>Open A Major</pre></div></td></tr><tr><td>Tuning</td><td><div class=\"dni-plaintext\"><pre>E2 A2 E3 A3 C#3 E4</pre></div></td></tr></tbody></table></div></details></td></tr><tr><td>Renaissance</td><td><details class=\"dni-treeview\"><summary><span class=\"dni-code-hint\"><code>GA.Business.Config.Instruments+Config+Guitar_Type+Renaissance_Type</code></span></summary><div><table><thead><tr></tr></thead><tbody><tr><td>Tuning</td><td><div class=\"dni-plaintext\"><pre>G3 G4 C4 C4 E4 E4 A4</pre></div></td></tr></tbody></table></div></details></td></tr><tr><td>Baroque1</td><td><details class=\"dni-treeview\"><summary><span class=\"dni-code-hint\"><code>GA.Business.Config.Instruments+Config+Guitar_Type+Baroque1_Type</code></span></summary><div><table><thead><tr></tr></thead><tbody><tr><td>FullName</td><td><div class=\"dni-plaintext\"><pre>Baroque 1</pre></div></td></tr><tr><td>Tuning</td><td><div class=\"dni-plaintext\"><pre>A3 A3 D4 D4 G3 G3 B3 B3 E4 E4</pre></div></td></tr></tbody></table></div></details></td></tr><tr><td>Baroque2</td><td><details class=\"dni-treeview\"><summary><span class=\"dni-code-hint\"><code>GA.Business.Config.Instruments+Config+Guitar_Type+Baroque2_Type</code></span></summary><div><table><thead><tr></tr></thead><tbody><tr><td>FullName</td><td><div class=\"dni-plaintext\"><pre>Baroque 2</pre></div></td></tr><tr><td>Tuning</td><td><div class=\"dni-plaintext\"><pre>A3 A3 D4 D3 G3 G3 B3 B3 E4 E4</pre></div></td></tr></tbody></table></div></details></td></tr><tr><td>TwelveStrings</td><td><details class=\"dni-treeview\"><summary><span class=\"dni-code-hint\"><code>GA.Business.Config.Instruments+Config+Guitar_Type+TwelveStrings_Type</code></span></summary><div><table><thead><tr></tr></thead><tbody><tr><td>FullName</td><td><div class=\"dni-plaintext\"><pre>12-String</pre></div></td></tr><tr><td>Tuning</td><td><div class=\"dni-plaintext\"><pre>E2 E3 A2 A3 D3 D4 G3 G4 B3 B3 E4 E4</pre></div></td></tr></tbody></table></div></details></td></tr></tbody></table></div></details><style>\r\n",
              ".dni-code-hint {\r\n",
              "    font-style: italic;\r\n",
              "    overflow: hidden;\r\n",
              "    white-space: nowrap;\r\n",
              "}\r\n",
              ".dni-treeview {\r\n",
              "    white-space: nowrap;\r\n",
              "}\r\n",
              ".dni-treeview td {\r\n",
              "    vertical-align: top;\r\n",
              "    text-align: start;\r\n",
              "}\r\n",
              "details.dni-treeview {\r\n",
              "    padding-left: 1em;\r\n",
              "}\r\n",
              "table td {\r\n",
              "    text-align: start;\r\n",
              "}\r\n",
              "table tr { \r\n",
              "    vertical-align: top; \r\n",
              "    margin: 0em 0px;\r\n",
              "}\r\n",
              "table tr td pre \r\n",
              "{ \r\n",
              "    vertical-align: top !important; \r\n",
              "    margin: 0em 0px !important;\r\n",
              "} \r\n",
              "table th {\r\n",
              "    text-align: start;\r\n",
              "}\r\n",
              "</style>"
            ]
          },
          "metadata": {},
          "output_type": "display_data"
        },
        {
          "data": {
            "text/html": [
              "<details open=\"open\" class=\"dni-treeview\"><summary><span class=\"dni-code-hint\"><code>GA.Business.Config.Instruments+Config+Banjo_Type</code></span></summary><div><table><thead><tr></tr></thead><tbody><tr><td>Cello</td><td><details class=\"dni-treeview\"><summary><span class=\"dni-code-hint\"><code>GA.Business.Config.Instruments+Config+Banjo_Type+Cello_Type</code></span></summary><div><table><thead><tr></tr></thead><tbody><tr><td>Tuning</td><td><div class=\"dni-plaintext\"><pre>C2 G2 D3 A3</pre></div></td></tr></tbody></table></div></details></td></tr><tr><td>TenorJazz</td><td><details class=\"dni-treeview\"><summary><span class=\"dni-code-hint\"><code>GA.Business.Config.Instruments+Config+Banjo_Type+TenorJazz_Type</code></span></summary><div><table><thead><tr></tr></thead><tbody><tr><td>FullName</td><td><div class=\"dni-plaintext\"><pre>Tenor (Jazz)</pre></div></td></tr><tr><td>Tuning</td><td><div class=\"dni-plaintext\"><pre>C3 G3 D4 A4</pre></div></td></tr></tbody></table></div></details></td></tr><tr><td>TenorIrish</td><td><details class=\"dni-treeview\"><summary><span class=\"dni-code-hint\"><code>GA.Business.Config.Instruments+Config+Banjo_Type+TenorIrish_Type</code></span></summary><div><table><thead><tr></tr></thead><tbody><tr><td>FullName</td><td><div class=\"dni-plaintext\"><pre>Tenor (Irish)</pre></div></td></tr><tr><td>Tuning</td><td><div class=\"dni-plaintext\"><pre>G2 D3 A3 E3</pre></div></td></tr></tbody></table></div></details></td></tr><tr><td>Plectrum</td><td><details class=\"dni-treeview\"><summary><span class=\"dni-code-hint\"><code>GA.Business.Config.Instruments+Config+Banjo_Type+Plectrum_Type</code></span></summary><div><table><thead><tr></tr></thead><tbody><tr><td>Tuning</td><td><div class=\"dni-plaintext\"><pre>C3 G3 B3 D4</pre></div></td></tr></tbody></table></div></details></td></tr><tr><td>Bluegrass5Strings</td><td><details class=\"dni-treeview\"><summary><span class=\"dni-code-hint\"><code>GA.Business.Config.Instruments+Config+Banjo_Type+Bluegrass5Strings_Type</code></span></summary><div><table><thead><tr></tr></thead><tbody><tr><td>FullName</td><td><div class=\"dni-plaintext\"><pre>5 strings Bluegrass</pre></div></td></tr><tr><td>Tuning</td><td><div class=\"dni-plaintext\"><pre>G4 D3 G3 B3 D4</pre></div></td></tr></tbody></table></div></details></td></tr><tr><td>CTuning5Strings</td><td><details class=\"dni-treeview\"><summary><span class=\"dni-code-hint\"><code>GA.Business.Config.Instruments+Config+Banjo_Type+CTuning5Strings_Type</code></span></summary><div><table><thead><tr></tr></thead><tbody><tr><td>FullName</td><td><div class=\"dni-plaintext\"><pre>5 strings C Tuning</pre></div></td></tr><tr><td>Tuning</td><td><div class=\"dni-plaintext\"><pre>G4 C3 G3 B3 D4</pre></div></td></tr></tbody></table></div></details></td></tr></tbody></table></div></details><style>\r\n",
              ".dni-code-hint {\r\n",
              "    font-style: italic;\r\n",
              "    overflow: hidden;\r\n",
              "    white-space: nowrap;\r\n",
              "}\r\n",
              ".dni-treeview {\r\n",
              "    white-space: nowrap;\r\n",
              "}\r\n",
              ".dni-treeview td {\r\n",
              "    vertical-align: top;\r\n",
              "    text-align: start;\r\n",
              "}\r\n",
              "details.dni-treeview {\r\n",
              "    padding-left: 1em;\r\n",
              "}\r\n",
              "table td {\r\n",
              "    text-align: start;\r\n",
              "}\r\n",
              "table tr { \r\n",
              "    vertical-align: top; \r\n",
              "    margin: 0em 0px;\r\n",
              "}\r\n",
              "table tr td pre \r\n",
              "{ \r\n",
              "    vertical-align: top !important; \r\n",
              "    margin: 0em 0px !important;\r\n",
              "} \r\n",
              "table th {\r\n",
              "    text-align: start;\r\n",
              "}\r\n",
              "</style>"
            ]
          },
          "metadata": {},
          "output_type": "display_data"
        },
        {
          "data": {
            "text/html": [
              "<details open=\"open\" class=\"dni-treeview\"><summary><span class=\"dni-code-hint\"><code>GA.Business.Config.Instruments+Config+Ukulele_Type</code></span></summary><div><table><thead><tr></tr></thead><tbody><tr><td>SopranoConcertAndTenorC</td><td><details class=\"dni-treeview\"><summary><span class=\"dni-code-hint\"><code>GA.Business.Config.Instruments+Config+Ukulele_Type+SopranoConcertAndTenorC_Type</code></span></summary><div><table><thead><tr></tr></thead><tbody><tr><td>FullName</td><td><div class=\"dni-plaintext\"><pre>Soprano C, Concert &amp; Tenor C</pre></div></td></tr><tr><td>Tuning</td><td><div class=\"dni-plaintext\"><pre>C6 G4 C4 E4 A4</pre></div></td></tr></tbody></table></div></details></td></tr><tr><td>SopranoConcertAndTenorD</td><td><details class=\"dni-treeview\"><summary><span class=\"dni-code-hint\"><code>GA.Business.Config.Instruments+Config+Ukulele_Type+SopranoConcertAndTenorD_Type</code></span></summary><div><table><thead><tr></tr></thead><tbody><tr><td>FullName</td><td><div class=\"dni-plaintext\"><pre>Soprano, Concert &amp; Tenor D</pre></div></td></tr><tr><td>Tuning</td><td><div class=\"dni-plaintext\"><pre>D6 A4 D4 F#4 B4</pre></div></td></tr></tbody></table></div></details></td></tr><tr><td>Baritone</td><td><details class=\"dni-treeview\"><summary><span class=\"dni-code-hint\"><code>GA.Business.Config.Instruments+Config+Ukulele_Type+Baritone_Type</code></span></summary><div><table><thead><tr></tr></thead><tbody><tr><td>Tuning</td><td><div class=\"dni-plaintext\"><pre>D4 G3 B4 E4</pre></div></td></tr></tbody></table></div></details></td></tr><tr><td>Tahitian</td><td><details class=\"dni-treeview\"><summary><span class=\"dni-code-hint\"><code>GA.Business.Config.Instruments+Config+Ukulele_Type+Tahitian_Type</code></span></summary><div><table><thead><tr></tr></thead><tbody><tr><td>Tuning</td><td><div class=\"dni-plaintext\"><pre>G4 G4 C5 C5 E5 E5 A4 A4</pre></div></td></tr></tbody></table></div></details></td></tr><tr><td>BanjoOrBanjoleteC</td><td><details class=\"dni-treeview\"><summary><span class=\"dni-code-hint\"><code>GA.Business.Config.Instruments+Config+Ukulele_Type+BanjoOrBanjoleteC_Type</code></span></summary><div><table><thead><tr></tr></thead><tbody><tr><td>FullName</td><td><div class=\"dni-plaintext\"><pre>Ukulele Banjo or Banjolele C</pre></div></td></tr><tr><td>Tuning</td><td><div class=\"dni-plaintext\"><pre>C6 G4 C4 E4 A4</pre></div></td></tr></tbody></table></div></details></td></tr><tr><td>BanjoOrBanjoleteD</td><td><details class=\"dni-treeview\"><summary><span class=\"dni-code-hint\"><code>GA.Business.Config.Instruments+Config+Ukulele_Type+BanjoOrBanjoleteD_Type</code></span></summary><div><table><thead><tr></tr></thead><tbody><tr><td>FullName</td><td><div class=\"dni-plaintext\"><pre>Ukulele Banjo or Banjolele D</pre></div></td></tr><tr><td>Tuning</td><td><div class=\"dni-plaintext\"><pre>D6 A4 D4 F#4 B4</pre></div></td></tr></tbody></table></div></details></td></tr></tbody></table></div></details><style>\r\n",
              ".dni-code-hint {\r\n",
              "    font-style: italic;\r\n",
              "    overflow: hidden;\r\n",
              "    white-space: nowrap;\r\n",
              "}\r\n",
              ".dni-treeview {\r\n",
              "    white-space: nowrap;\r\n",
              "}\r\n",
              ".dni-treeview td {\r\n",
              "    vertical-align: top;\r\n",
              "    text-align: start;\r\n",
              "}\r\n",
              "details.dni-treeview {\r\n",
              "    padding-left: 1em;\r\n",
              "}\r\n",
              "table td {\r\n",
              "    text-align: start;\r\n",
              "}\r\n",
              "table tr { \r\n",
              "    vertical-align: top; \r\n",
              "    margin: 0em 0px;\r\n",
              "}\r\n",
              "table tr td pre \r\n",
              "{ \r\n",
              "    vertical-align: top !important; \r\n",
              "    margin: 0em 0px !important;\r\n",
              "} \r\n",
              "table th {\r\n",
              "    text-align: start;\r\n",
              "}\r\n",
              "</style>"
            ]
          },
          "metadata": {},
          "output_type": "display_data"
        }
      ],
      "source": [
        "#r \"nuget:FSharp.Configuration,2.0.0\"\n",
        "#r \"nuget:GuitarAlchemist.GA.Interactive,*-*\"\n",
        "\n",
        "using GA.Business.Config;\n",
        "\n",
        "Instruments.Instrument.Guitar.Display();\n",
        "Instruments.Instrument.Banjo.Display();\n",
        "Instruments.Instrument.Ukulele.Display();"
      ]
    }
  ],
  "metadata": {
    "kernelspec": {
      "display_name": ".NET (C#)",
      "language": "C#",
      "name": ".net-csharp"
    },
    "language_info": {
      "file_extension": ".cs",
      "mimetype": "text/x-csharp",
      "name": "C#",
      "pygments_lexer": "csharp",
      "version": "8.0"
    }
  },
  "nbformat": 4,
  "nbformat_minor": 4
}
