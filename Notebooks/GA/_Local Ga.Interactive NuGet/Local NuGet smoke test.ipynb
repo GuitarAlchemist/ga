{
  "cells": [
    {
      "cell_type": "code",
      "execution_count": 1,
      "metadata": {
        "dotnet_interactive": {
          "language": "csharp"
        },
        "vscode": {
          "languageId": "polyglot-notebook"
        }
      },
      "outputs": [
        {
          "data": {
            "text/html": [
              "<div><div><strong>Restore sources</strong><ul><li><span>C:\\Users\\spare\\source\\repos\\ga\\nuget</span></li></ul></div><div></div><div><strong>Installed Packages</strong><ul><li><span>GuitarAlchemist.GA.Interactive.LocalNuGet, 2024.3.30.1207</span></li></ul></div></div>"
            ]
          },
          "metadata": {},
          "output_type": "display_data"
        },
        {
          "ename": "Error",
          "evalue": "System.IO.FileNotFoundException: Could not load file or assembly 'FSharp.Configuration.Runtime, Version=1.0.0.0, Culture=neutral, PublicKeyToken=null'. The system cannot find the file specified.\r\nFile name: 'FSharp.Configuration.Runtime, Version=1.0.0.0, Culture=neutral, PublicKeyToken=null'\r\n   at System.Reflection.RuntimeAssembly.GetExportedTypes()\r\n   at Microsoft.DotNet.Interactive.App.PackageDirectoryExtensionLoader.LoadFromAssemblyFile(FileInfo assemblyFile, Kernel kernel, KernelInvocationContext context) in D:\\a\\_work\\1\\s\\src\\dotnet-interactive\\PackageDirectoryExtensionLoader.cs:line 108\r\n   at Microsoft.DotNet.Interactive.App.PackageDirectoryExtensionLoader.LoadFromDllsInDirectoryAsync(DirectoryInfo directory, Kernel kernel, KernelInvocationContext context) in D:\\a\\_work\\1\\s\\src\\dotnet-interactive\\PackageDirectoryExtensionLoader.cs:line 85\r\n   at Microsoft.DotNet.Interactive.App.PackageDirectoryExtensionLoader.LoadFromDirectoryAsync(DirectoryInfo directory, Kernel kernel, KernelInvocationContext context) in D:\\a\\_work\\1\\s\\src\\dotnet-interactive\\PackageDirectoryExtensionLoader.cs:line 63\r\n   at Microsoft.DotNet.Interactive.App.KernelExtensionLoader.LoadExtensionsFromDirectoryAsync(CompositeKernel kernel, DirectoryInfo extensionDir, KernelInvocationContext context, TelemetrySender telemetrySender) in D:\\a\\_work\\1\\s\\src\\dotnet-interactive\\KernelExtensionLoader.cs:line 78\r\n   at Microsoft.DotNet.Interactive.App.KernelExtensionLoader.<>c__DisplayClass0_0.<<UseNuGetExtensions>b__0>d.MoveNext() in D:\\a\\_work\\1\\s\\src\\dotnet-interactive\\KernelExtensionLoader.cs:line 53\r\n--- End of stack trace from previous location ---\r\n   at Microsoft.DotNet.Interactive.KernelCommandPipeline.<>c__DisplayClass6_0.<<BuildPipeline>g__Combine|2>d.MoveNext() in D:\\a\\_work\\1\\s\\src\\Microsoft.DotNet.Interactive\\KernelCommandPipeline.cs:line 73\r\n--- End of stack trace from previous location ---\r\n   at Microsoft.DotNet.Interactive.KernelCommandPipeline.<>c__DisplayClass6_0.<<BuildPipeline>g__Combine|2>d.MoveNext() in D:\\a\\_work\\1\\s\\src\\Microsoft.DotNet.Interactive\\KernelCommandPipeline.cs:line 73\r\n--- End of stack trace from previous location ---\r\n   at Microsoft.DotNet.Interactive.KernelCommandPipeline.SendAsync(KernelCommand command, KernelInvocationContext context) in D:\\a\\_work\\1\\s\\src\\Microsoft.DotNet.Interactive\\KernelCommandPipeline.cs:line 41",
          "output_type": "error",
          "traceback": [
            "System.IO.FileNotFoundException: Could not load file or assembly 'FSharp.Configuration.Runtime, Version=1.0.0.0, Culture=neutral, PublicKeyToken=null'. The system cannot find the file specified.\r\n",
            "File name: 'FSharp.Configuration.Runtime, Version=1.0.0.0, Culture=neutral, PublicKeyToken=null'\r\n",
            "   at System.Reflection.RuntimeAssembly.GetExportedTypes()\r\n",
            "   at Microsoft.DotNet.Interactive.App.PackageDirectoryExtensionLoader.LoadFromAssemblyFile(FileInfo assemblyFile, Kernel kernel, KernelInvocationContext context) in D:\\a\\_work\\1\\s\\src\\dotnet-interactive\\PackageDirectoryExtensionLoader.cs:line 108\r\n",
            "   at Microsoft.DotNet.Interactive.App.PackageDirectoryExtensionLoader.LoadFromDllsInDirectoryAsync(DirectoryInfo directory, Kernel kernel, KernelInvocationContext context) in D:\\a\\_work\\1\\s\\src\\dotnet-interactive\\PackageDirectoryExtensionLoader.cs:line 85\r\n",
            "   at Microsoft.DotNet.Interactive.App.PackageDirectoryExtensionLoader.LoadFromDirectoryAsync(DirectoryInfo directory, Kernel kernel, KernelInvocationContext context) in D:\\a\\_work\\1\\s\\src\\dotnet-interactive\\PackageDirectoryExtensionLoader.cs:line 63\r\n",
            "   at Microsoft.DotNet.Interactive.App.KernelExtensionLoader.LoadExtensionsFromDirectoryAsync(CompositeKernel kernel, DirectoryInfo extensionDir, KernelInvocationContext context, TelemetrySender telemetrySender) in D:\\a\\_work\\1\\s\\src\\dotnet-interactive\\KernelExtensionLoader.cs:line 78\r\n",
            "   at Microsoft.DotNet.Interactive.App.KernelExtensionLoader.<>c__DisplayClass0_0.<<UseNuGetExtensions>b__0>d.MoveNext() in D:\\a\\_work\\1\\s\\src\\dotnet-interactive\\KernelExtensionLoader.cs:line 53\r\n",
            "--- End of stack trace from previous location ---\r\n",
            "   at Microsoft.DotNet.Interactive.KernelCommandPipeline.<>c__DisplayClass6_0.<<BuildPipeline>g__Combine|2>d.MoveNext() in D:\\a\\_work\\1\\s\\src\\Microsoft.DotNet.Interactive\\KernelCommandPipeline.cs:line 73\r\n",
            "--- End of stack trace from previous location ---\r\n",
            "   at Microsoft.DotNet.Interactive.KernelCommandPipeline.<>c__DisplayClass6_0.<<BuildPipeline>g__Combine|2>d.MoveNext() in D:\\a\\_work\\1\\s\\src\\Microsoft.DotNet.Interactive\\KernelCommandPipeline.cs:line 73\r\n",
            "--- End of stack trace from previous location ---\r\n",
            "   at Microsoft.DotNet.Interactive.KernelCommandPipeline.SendAsync(KernelCommand command, KernelInvocationContext context) in D:\\a\\_work\\1\\s\\src\\Microsoft.DotNet.Interactive\\KernelCommandPipeline.cs:line 41"
          ]
        }
      ],
      "source": [
        "#i \"nuget:C:\\Users\\spare\\source\\repos\\ga\\nuget\"\n",
        "#r \"nuget:GuitarAlchemist.GA.Interactive.LocalNuGet,*-*\"\n",
        "\n",
        "\n"
      ]
    },
    {
      "cell_type": "code",
      "execution_count": 7,
      "metadata": {
        "dotnet_interactive": {
          "language": "csharp"
        },
        "polyglot_notebook": {
          "kernelName": "csharp"
        },
        "vscode": {
          "languageId": "polyglot-notebook"
        }
      },
      "outputs": [
        {
          "ename": "Error",
          "evalue": "(1,1): error CS0103: The name 'Key' does not exist in the current context",
          "output_type": "error",
          "traceback": [
            "(1,1): error CS0103: The name 'Key' does not exist in the current context"
          ]
        }
      ],
      "source": [
        "using GA.Business.Core.Tonal;\n",
        "\n",
        "Key.Major.MajorItems.DisplayTable();"
      ]
    },
    {
      "cell_type": "code",
      "execution_count": 8,
      "metadata": {
        "dotnet_interactive": {
          "language": "csharp"
        },
        "polyglot_notebook": {
          "kernelName": "csharp"
        },
        "vscode": {
          "languageId": "polyglot-notebook"
        }
      },
      "outputs": [
        {
          "ename": "Error",
          "evalue": "(1,1): error CS0103: The name 'Key' does not exist in the current context",
          "output_type": "error",
          "traceback": [
            "(1,1): error CS0103: The name 'Key' does not exist in the current context"
          ]
        }
      ],
      "source": [
        "Key.Minor.MinorItems.DisplayTable();"
      ]
    },
    {
      "cell_type": "code",
      "execution_count": 4,
      "metadata": {
        "dotnet_interactive": {
          "language": "csharp"
        },
        "polyglot_notebook": {
          "kernelName": "csharp"
        },
        "vscode": {
          "languageId": "polyglot-notebook"
        }
      },
      "outputs": [
        {
          "ename": "Error",
          "evalue": "System.IO.FileNotFoundException: Could not load file or assembly 'FSharp.Configuration.Runtime, Version=1.0.0.0, Culture=neutral, PublicKeyToken=null'. The system cannot find the file specified.\r\nFile name: 'FSharp.Configuration.Runtime, Version=1.0.0.0, Culture=neutral, PublicKeyToken=null'\r\n   at Submission#4.<<Initialize>>d__0.MoveNext()\r\n   at System.Runtime.CompilerServices.AsyncMethodBuilderCore.Start[TStateMachine](TStateMachine& stateMachine)\r\n   at Submission#4.<Initialize>()\r\n   at Submission#4.<Factory>(Object[] submissionArray)\r\n   at Microsoft.CodeAnalysis.Scripting.ScriptExecutionState.RunSubmissionsAsync[TResult](ImmutableArray`1 precedingExecutors, Func`2 currentExecutor, StrongBox`1 exceptionHolderOpt, Func`2 catchExceptionOpt, CancellationToken cancellationToken)",
          "output_type": "error",
          "traceback": [
            "System.IO.FileNotFoundException: Could not load file or assembly 'FSharp.Configuration.Runtime, Version=1.0.0.0, Culture=neutral, PublicKeyToken=null'. The system cannot find the file specified.\r\n",
            "File name: 'FSharp.Configuration.Runtime, Version=1.0.0.0, Culture=neutral, PublicKeyToken=null'\r\n",
            "   at Submission#4.<<Initialize>>d__0.MoveNext()\r\n",
            "   at System.Runtime.CompilerServices.AsyncMethodBuilderCore.Start[TStateMachine](TStateMachine& stateMachine)\r\n",
            "   at Submission#4.<Initialize>()\r\n",
            "   at Submission#4.<Factory>(Object[] submissionArray)\r\n",
            "   at Microsoft.CodeAnalysis.Scripting.ScriptExecutionState.RunSubmissionsAsync[TResult](ImmutableArray`1 precedingExecutors, Func`2 currentExecutor, StrongBox`1 exceptionHolderOpt, Func`2 catchExceptionOpt, CancellationToken cancellationToken)"
          ]
        }
      ],
      "source": [
        "using GA.Business.Config;\n",
        "\n",
        "Instruments.Instrument.Guitar.Display();\n",
        "Instruments.Instrument.Banjo.Display();\n",
        "Instruments.Instrument.Ukulele.Display();"
      ]
    },
    {
      "cell_type": "code",
      "execution_count": 5,
      "metadata": {
        "dotnet_interactive": {
          "language": "csharp"
        },
        "polyglot_notebook": {
          "kernelName": "csharp"
        },
        "vscode": {
          "languageId": "polyglot-notebook"
        }
      },
      "outputs": [],
      "source": []
    },
    {
      "cell_type": "code",
      "execution_count": 6,
      "metadata": {
        "dotnet_interactive": {
          "language": "csharp"
        },
        "polyglot_notebook": {
          "kernelName": "csharp"
        },
        "vscode": {
          "languageId": "polyglot-notebook"
        }
      },
      "outputs": [],
      "source": []
    }
  ],
  "metadata": {
    "kernelspec": {
      "display_name": ".NET (C#)",
      "language": "C#",
      "name": ".net-csharp"
    },
    "language_info": {
      "file_extension": ".cs",
      "mimetype": "text/x-csharp",
      "name": "C#",
      "pygments_lexer": "csharp",
      "version": "8.0"
    }
  },
  "nbformat": 4,
  "nbformat_minor": 4
}
