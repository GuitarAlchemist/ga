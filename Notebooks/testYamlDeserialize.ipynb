{
  "cells": [
    {
      "cell_type": "code",
      "execution_count": 2,
      "metadata": {
        "dotnet_interactive": {
          "language": "fsharp"
        },
        "vscode": {
          "languageId": "dotnet-interactive.fsharp"
        }
      },
      "outputs": [
        {
          "data": {
            "text/html": [
              "<div><div></div><div></div><div><strong>Installed Packages</strong><ul><li><span>FSharp.Configuration, 3.0.0-beta1</span></li></ul></div></div>"
            ]
          },
          "metadata": {},
          "output_type": "display_data"
        },
        {
          "ename": "Error",
          "evalue": "input.fsx (17,19)-(17,29) typecheck error The type 'YamlConfig' is not defined.\ninput.fsx (17,19)-(17,29) typecheck error The type 'YamlConfig' is not defined.\ninput.fsx (20,8)-(20,12) typecheck error The type 'Object' does not define the field, constructor or member 'Load'.\ninput.fsx (21,8)-(21,13) typecheck error The type 'Object' does not define the field, constructor or member 'items'.\ninput.fsx (22,8)-(22,13) typecheck error The type 'Object' does not define the field, constructor or member 'items'.",
          "output_type": "error",
          "traceback": [
            "input.fsx (17,19)-(17,29) typecheck error The type 'YamlConfig' is not defined.\n",
            "input.fsx (17,19)-(17,29) typecheck error The type 'YamlConfig' is not defined.\n",
            "input.fsx (20,8)-(20,12) typecheck error The type 'Object' does not define the field, constructor or member 'Load'.\n",
            "input.fsx (21,8)-(21,13) typecheck error The type 'Object' does not define the field, constructor or member 'items'.\n",
            "input.fsx (22,8)-(22,13) typecheck error The type 'Object' does not define the field, constructor or member 'items'."
          ]
        }
      ],
      "source": [
        "#r \"nuget:FSharp.Configuration,*-*\"\n",
        "\n",
        "open System.Net.Http\n",
        "open System.IO\n",
        "\n",
        "[<Literal>]\n",
        "let yamlFile = __SOURCE_DIRECTORY__ + @\"\\data\\Lists.yaml\"\n",
        "\n",
        "task {\n",
        "    use client = new HttpClient()\n",
        "    let! response = client.GetStringAsync(\"https://raw.githubusercontent.com/fsprojects/FSharp.Configuration/master/tests/FSharp.Configuration.Tests/Lists.yaml\")\n",
        "    do! File.WriteAllTextAsync(yamlFile, response)\n",
        "}\n",
        "|> Async.AwaitTask\n",
        "|> Async.RunSynchronously\n",
        "\n",
        "File.Exists yamlFile\n",
        "\n",
        "type TestConfig = YamlConfig<yamlFile>\n",
        "let config = TestConfig()\n",
        "\n",
        "config.Load(yamlFile)\n",
        "config.items.Count\n",
        "config.items"
      ]
    },
    {
      "cell_type": "code",
      "execution_count": 3,
      "metadata": {
        "dotnet_interactive": {
          "language": "csharp"
        },
        "vscode": {
          "languageId": "dotnet-interactive.csharp"
        }
      },
      "outputs": [],
      "source": []
    }
  ],
  "metadata": {
    "kernelspec": {
      "display_name": ".NET (F#)",
      "language": "F#",
      "name": ".net-fsharp"
    },
    "language_info": {
      "file_extension": ".cs",
      "mimetype": "text/x-csharp",
      "name": "F#",
      "pygments_lexer": "csharp",
      "version": "8.0"
    }
  },
  "nbformat": 4,
  "nbformat_minor": 4
}
