{
  "cells": [
    {
      "cell_type": "code",
      "execution_count": 1,
      "metadata": {
        "dotnet_interactive": {
          "language": "csharp"
        }
      },
      "source": [
        "#i \"nuget:C:\\Code\\GuitarAlchemist\\GA\\nuget\"\n",
        "#r \"nuget:GuitarAlchemist.GA.Interactive.LocalNuGet,*-*\"\n",
        "\n",
        "using GA.Business.Core.Tonal;\n",
        "using GA.Business.Core.Fretboard;\n",
        "\n",
        "// var fretboard = Fretboard.Default;\n",
        "// fretboard.ToString();\n",
        "\n",
        ""
      ],
      "outputs": [
        {
          "output_type": "execute_result",
          "data": {
            "text/html": "<div><div><strong>Restore sources</strong><ul><li><span>C:\\Code\\GuitarAlchemist\\GA\\nuget</span></li></ul></div><div></div><div><strong>Installed Packages</strong><ul><li><span>GuitarAlchemist.GA.Interactive.LocalNuGet, 2022.11.6.1204</span></li></ul></div></div>"
          },
          "execution_count": 1,
          "metadata": {}
        },
        {
          "output_type": "execute_result",
          "data": {
            "text/markdown": "Loading extensions from `GA.InteractiveExtension.dll`"
          },
          "execution_count": 1,
          "metadata": {}
        },
        {
          "output_type": "execute_result",
          "data": {
            "text/html": "<pre style=\"font-family: monospace\">   ____       _ _                  _    _      _                    _     _   \r\n  / ___|_   _(_) |_ __ _ _ __     / \\  | | ___| |__   ___ _ __ ___ (_)___| |_ \r\n | |  _| | | | | __/ _` | '__|   / _ \\ | |/ __| '_ \\ / _ \\ '_ ` _ \\| / __| __|\r\n | |_| | |_| | | || (_| | |     / ___ \\| | (__| | | |  __/ | | | | | \\__ \\ |_ \r\n  \\____|\\__,_|_|\\__\\__,_|_|    /_/   \\_\\_|\\___|_| |_|\\___|_| |_| |_|_|___/\\__|\r\n                                                                              \r\n</pre>"
          },
          "execution_count": 1,
          "metadata": {}
        },
        {
          "output_type": "execute_result",
          "data": {
            "text/html": "<div>\r\n    Hello World\r\n</div>"
          },
          "execution_count": 1,
          "metadata": {}
        },
        {
          "output_type": "execute_result",
          "data": {
            "text/html": "<details>\r\n    <summary>Renders Guitar Alchemist objects in dotnet-interactive notebooks (71 formatters registered).</summary>\r\n    <p>GA.Business.Core.Tonal.KeyMode</p><p>GA.Business.Core.Tonal.KeySignature</p><p>GA.Business.Core.Tonal.Primitives.HarmonicMinorScaleDegree</p><p>GA.Business.Core.Tonal.Primitives.MajorPentatonicScaleDegree</p><p>GA.Business.Core.Tonal.Primitives.MajorScaleDegree</p><p>GA.Business.Core.Tonal.Primitives.MelodicMinorScaleDegree</p><p>GA.Business.Core.Tonal.Primitives.NaturalMinorScaleDegree</p><p>GA.Business.Core.Tonal.Primitives.ScaleDegreeFunction</p><p>GA.Business.Core.Tonal.Modes.HarmonicMinorMode</p><p>GA.Business.Core.Tonal.Modes.MajorPentatonicMode</p><p>GA.Business.Core.Tonal.Modes.MajorScaleMode</p><p>GA.Business.Core.Tonal.Modes.MelodicMinorMode</p><p>GA.Business.Core.Tonal.Modes.NaturalMinorMode</p><p>GA.Business.Core.Scales.Scale</p><p>GA.Business.Core.Notes.AccidentedNotePair</p><p>GA.Business.Core.Notes.NaturalNotePair</p><p>GA.Business.Core.Notes.PitchCollection</p><p>GA.Business.Core.Notes.PitchCollectionParseException</p><p>GA.Business.Core.Notes.Primitives.FlatAccidental</p><p>GA.Business.Core.Notes.Primitives.MidiNote</p><p>GA.Business.Core.Notes.Primitives.NaturalNote</p><p>GA.Business.Core.Notes.Primitives.SharpAccidental</p><p>GA.Business.Core.Intervals.ModeCompoundInterval</p><p>GA.Business.Core.Intervals.ModeFormula</p><p>GA.Business.Core.Intervals.ModeInterval</p><p>GA.Business.Core.Intervals.Octave</p><p>GA.Business.Core.Intervals.Primitives.Accidental</p><p>GA.Business.Core.Intervals.Primitives.AccidentalKind</p><p>GA.Business.Core.Intervals.Primitives.CompoundIntervalSize</p><p>GA.Business.Core.Intervals.Primitives.IntervalQuality</p><p>GA.Business.Core.Intervals.Primitives.IntervalSize</p><p>GA.Business.Core.Intervals.Primitives.IntervalSizeConsonance</p><p>GA.Business.Core.Intervals.Primitives.Semitones</p><p>GA.Business.Core.Fretboard.Fretboard</p><p>GA.Business.Core.Fretboard.Tuning</p><p>GA.Business.Core.Fretboard.Primitives.Fret</p><p>GA.Business.Core.Fretboard.Primitives.Str</p><p>GA.Business.Core.Fretboard.Positions.MutedPositionCollection</p><p>GA.Business.Core.Fretboard.Positions.PlayedPositionCollection</p><p>GA.Business.Core.Fretboard.Positions.PositionCollection</p><p>GA.Business.Core.Fretboard.Positions.PositionLocation</p><p>GA.Business.Core.Fretboard.Fingering.Finger</p><p>GA.Business.Core.Fretboard.Engine.KeyFretPositions</p><p>GA.Business.Core.Fretboard.Engine.KeyPosition</p><p>GA.Business.Core.Fretboard.Engine.KeyPositionCollection</p><p>GA.Business.Core.Atonal.IntervalClassVector</p><p>GA.Business.Core.Atonal.ModalFamily</p><p>GA.Business.Core.Atonal.PitchClass</p><p>GA.Business.Core.Atonal.PitchClassSet</p><p>GA.Business.Core.Atonal.PitchClassSetOrder</p><p>GA.Business.Core.Atonal.Primitives.Cardinality</p><p>GA.Business.Core.Atonal.Primitives.IntervalClass</p><p>GA.Business.Core.Atonal.Primitives.PitchClassSetIdentity</p><p>GA.Business.Core.Tonal.Key+Major</p><p>GA.Business.Core.Tonal.Key+Minor</p><p>GA.Business.Core.Scales.Scale+LazyScaleIntervals</p><p>GA.Business.Core.Notes.Note+Chromatic</p><p>GA.Business.Core.Notes.Note+SharpKey</p><p>GA.Business.Core.Notes.Note+FlatKey</p><p>GA.Business.Core.Notes.Note+AccidentedNote</p><p>GA.Business.Core.Notes.Pitch+Chromatic</p><p>GA.Business.Core.Notes.Pitch+Sharp</p><p>GA.Business.Core.Notes.Pitch+Flat</p><p>GA.Business.Core.Intervals.Interval+Chromatic</p><p>GA.Business.Core.Intervals.Interval+Simple</p><p>GA.Business.Core.Intervals.Interval+Compound</p><p>GA.Business.Core.Fretboard.FretboardConsoleRenderer+Options</p><p>GA.Business.Core.Fretboard.FretboardTextWriterRenderer+Options</p><p>GA.Business.Core.Fretboard.Primitives.Position+Muted</p><p>GA.Business.Core.Fretboard.Primitives.Position+Played</p><p>GA.Business.Core.Notes.Note+AccidentedNote+AllNotes</p>\r\n</details>    "
          },
          "execution_count": 1,
          "metadata": {}
        },
        {
          "output_type": "execute_result",
          "data": {
            "text/plain": "Hello\r\n"
          },
          "execution_count": 1,
          "metadata": {}
        }
      ]
    }
  ],
  "metadata": {
    "kernelspec": {
      "display_name": ".NET (C#)",
      "language": "C#",
      "name": ".net-csharp"
    },
    "language_info": {
      "file_extension": ".cs",
      "mimetype": "text/x-csharp",
      "name": "C#",
      "pygments_lexer": "csharp",
      "version": "8.0"
    }
  },
  "nbformat": 4,
  "nbformat_minor": 4
}