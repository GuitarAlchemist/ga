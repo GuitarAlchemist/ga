{
  "cells": [
    {
      "cell_type": "code",
      "execution_count": 1,
      "metadata": {
        "dotnet_interactive": {
          "language": "csharp"
        }
      },
      "source": [
        "#i \"nuget:C:\\Code\\GuitarAlchemist\\GA\\nuget\"\n",
        "#r \"nuget:GuitarAlchemist.GA.Interactive.LocalNuGet,*-*\""
      ],
      "outputs": [
        {
          "output_type": "execute_result",
          "data": {
            "text/html": "<div><div><strong>Restore sources</strong><ul><li><span>C:\\Code\\GuitarAlchemist\\GA\\nuget</span></li></ul></div><div></div><div><strong>Installed Packages</strong><ul><li><span>GuitarAlchemist.GA.Interactive.LocalNuGet, 2022.11.11.1341</span></li></ul></div></div>"
          },
          "execution_count": 1,
          "metadata": {}
        }
      ]
    },
    {
      "cell_type": "code",
      "execution_count": 1,
      "metadata": {
        "dotnet_interactive": {
          "language": "csharp"
        }
      },
      "source": [
        "using GA.Business.Core.Tonal;\n",
        "\n",
        "var myKey = Key.Major.Bb;\n",
        "Console.WriteLine(myKey.ToString());\n",
        "\n",
        "var notes = myKey.GetNotes();\n",
        "Console.WriteLine(notes);"
      ],
      "outputs": [
        {
          "output_type": "execute_result",
          "data": {
            "text/plain": "Bb C D Eb F G A\r\n"
          },
          "execution_count": 1,
          "metadata": {}
        }
      ]
    }
  ],
  "metadata": {
    "kernelspec": {
      "display_name": ".NET (C#)",
      "language": "C#",
      "name": ".net-csharp"
    },
    "language_info": {
      "file_extension": ".cs",
      "mimetype": "text/x-csharp",
      "name": "C#",
      "pygments_lexer": "csharp",
      "version": "8.0"
    }
  },
  "nbformat": 4,
  "nbformat_minor": 4
}