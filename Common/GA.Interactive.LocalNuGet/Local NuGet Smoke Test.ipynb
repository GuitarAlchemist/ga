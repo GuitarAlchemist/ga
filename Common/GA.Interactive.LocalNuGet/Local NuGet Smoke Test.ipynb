{
  "cells": [
    {
      "cell_type": "code",
      "execution_count": 1,
      "metadata": {
        "dotnet_interactive": {
          "language": "csharp"
        }
      },
      "source": [
        "#i \"nuget:C:\\Code\\GuitarAlchemist\\GA\\nuget\"\n",
        "#r \"nuget:GuitarAlchemist.GA.Interactive.LocalNuGet,*-*\""
      ],
      "outputs": [
        {
          "output_type": "execute_result",
          "data": {
            "text/html": "<div><div><strong>Restore sources</strong><ul><li><span>C:\\Code\\GuitarAlchemist\\GA\\nuget</span></li></ul></div><div></div><div><strong>Installed Packages</strong><ul><li><span>GuitarAlchemist.GA.Interactive.LocalNuGet, 2022.11.24.2037</span></li></ul></div></div>"
          },
          "execution_count": 1,
          "metadata": {}
        }
      ]
    },
    {
      "cell_type": "code",
      "execution_count": 1,
      "metadata": {
        "dotnet_interactive": {
          "language": "csharp"
        }
      },
      "source": [
        "using GA.Business.Core.Tonal;\n",
        "using GA.Core.Combinatorics;\n",
        "using GA.Business.Core.Fretboard.Primitives;\n",
        "\n",
        "/*\n",
        "foreach\t(var key in Key.GetAll())\n",
        "{\n",
        "\tConsole.WriteLine(key.ToString());\n",
        "\n",
        "    var notes = key.GetNotes();\n",
        "    Console.WriteLine($\"Notes = {notes}\");\n",
        "\tConsole.WriteLine(\"\");\n",
        "}\n",
        "*/\n",
        "\n",
        "// --------------------------------------------------------------------\n",
        "\n",
        "var moveableVariations = new VariationsWithRepetitions<Fret>(Fret.Set(-1, 1..5), 6);\n",
        "foreach (var variation in moveableVariations.Take(20))\n",
        "{\n",
        "    var index = moveableVariations.GetIndex(variation);\n",
        "    if (index != variation.Index) throw new InvalidOperationException(\"That sucks!\");\n",
        "\tConsole.WriteLine(variation.ToString());\n",
        "}\n",
        "Console.WriteLine(\"Done!\");\n",
        "\n",
        "\n",
        "\n",
        "\n",
        ""
      ],
      "outputs": [
        {
          "output_type": "execute_result",
          "data": {
            "text/plain": "19: 1 3 x x x x\r\n"
          },
          "execution_count": 1,
          "metadata": {}
        }
      ]
    }
  ],
  "metadata": {
    "kernelspec": {
      "display_name": ".NET (C#)",
      "language": "C#",
      "name": ".net-csharp"
    },
    "language_info": {
      "file_extension": ".cs",
      "mimetype": "text/x-csharp",
      "name": "C#",
      "pygments_lexer": "csharp",
      "version": "8.0"
    }
  },
  "nbformat": 4,
  "nbformat_minor": 4
}