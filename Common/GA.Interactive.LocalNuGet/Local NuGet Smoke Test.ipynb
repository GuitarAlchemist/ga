{
  "cells": [
    {
      "cell_type": "code",
      "execution_count": 1,
      "metadata": {
        "dotnet_interactive": {
          "language": "csharp"
        }
      },
      "source": [
        "#i \"nuget:C:\\Code\\GuitarAlchemist\\GA\\nuget\"\n",
        "#r \"nuget:GuitarAlchemist.GA.Interactive.LocalNuGet,*-*\""
      ],
      "outputs": [
        {
          "output_type": "execute_result",
          "data": {
            "text/html": "<div><div><strong>Restore sources</strong><ul><li><span>C:\\Code\\GuitarAlchemist\\GA\\nuget</span></li></ul></div><div></div><div><strong>Installed Packages</strong><ul><li><span>GuitarAlchemist.GA.Interactive.LocalNuGet, 2022.11.12.1601</span></li></ul></div></div>"
          },
          "execution_count": 1,
          "metadata": {}
        },
        {
          "output_type": "error",
          "ename": "",
          "evalue": "System.IO.FileLoadException: Assembly with same name is already loaded\r\n   at System.Runtime.Loader.AssemblyLoadContext.LoadFromPath(IntPtr ptrNativeAssemblyLoadContext, String ilPath, String niPath, ObjectHandleOnStack retAssembly)\r\n   at System.Runtime.Loader.AssemblyLoadContext.LoadFromAssemblyPath(String assemblyPath)\r\n   at Microsoft.DotNet.Interactive.Extensions.AssemblyBasedExtensionLoader.LoadFromAssembly(FileInfo assemblyFile, Kernel kernel, KernelInvocationContext context) in D:\\a\\_work\\1\\s\\src\\Microsoft.DotNet.Interactive\\Extensions\\AssemblyBasedExtensionLoader.cs:line 112\r\n   at Microsoft.DotNet.Interactive.Extensions.AssemblyBasedExtensionLoader.LoadFromAssembliesInDirectory(DirectoryInfo directory, Kernel kernel, KernelInvocationContext context) in D:\\a\\_work\\1\\s\\src\\Microsoft.DotNet.Interactive\\Extensions\\AssemblyBasedExtensionLoader.cs:line 74\r\n   at Microsoft.DotNet.Interactive.Extensions.AssemblyBasedExtensionLoader.LoadFromDirectoryAsync(DirectoryInfo directory, Kernel kernel, KernelInvocationContext context) in D:\\a\\_work\\1\\s\\src\\Microsoft.DotNet.Interactive\\Extensions\\AssemblyBasedExtensionLoader.cs:line 47\r\n   at Microsoft.DotNet.Interactive.CompositeKernel.LoadExtensionsFromDirectoryAsync(DirectoryInfo directory, KernelInvocationContext context) in D:\\a\\_work\\1\\s\\src\\Microsoft.DotNet.Interactive\\CompositeKernel.cs:line 305\r\n   at Microsoft.DotNet.Interactive.CompositeKernel.LoadExtensions(KernelCommand command, KernelInvocationContext context, KernelPipelineContinuation next) in D:\\a\\_work\\1\\s\\src\\Microsoft.DotNet.Interactive\\CompositeKernel.cs:line 166\r\n   at Microsoft.DotNet.Interactive.KernelCommandPipeline.<>c__DisplayClass6_0.<<BuildPipeline>g__Combine|2>d.MoveNext() in D:\\a\\_work\\1\\s\\src\\Microsoft.DotNet.Interactive\\KernelCommandPipeline.cs:line 70\r\n--- End of stack trace from previous location ---\r\n   at Microsoft.DotNet.Interactive.KernelCommandPipeline.SendAsync(KernelCommand command, KernelInvocationContext context) in D:\\a\\_work\\1\\s\\src\\Microsoft.DotNet.Interactive\\KernelCommandPipeline.cs:line 42",
          "traceback": [
            null
          ]
        }
      ]
    },
    {
      "cell_type": "code",
      "execution_count": 1,
      "metadata": {
        "dotnet_interactive": {
          "language": "csharp"
        }
      },
      "source": [
        "using GA.Business.Core.Tonal;\n",
        "\n",
        "foreach\t(var key in Key.GetAll())\n",
        "{\n",
        "\tConsole.WriteLine(key.ToString());\n",
        "\n",
        "    var notes = key.GetNotes();\n",
        "    Console.WriteLine($\"Notes = {notes}\");\n",
        "\tConsole.WriteLine(\"\");\n",
        "}\n",
        ""
      ],
      "outputs": [
        {
          "output_type": "execute_result",
          "data": {
            "text/plain": "\r\n"
          },
          "execution_count": 1,
          "metadata": {}
        }
      ]
    }
  ],
  "metadata": {
    "kernelspec": {
      "display_name": ".NET (C#)",
      "language": "C#",
      "name": ".net-csharp"
    },
    "language_info": {
      "file_extension": ".cs",
      "mimetype": "text/x-csharp",
      "name": "C#",
      "pygments_lexer": "csharp",
      "version": "8.0"
    }
  },
  "nbformat": 4,
  "nbformat_minor": 4
}