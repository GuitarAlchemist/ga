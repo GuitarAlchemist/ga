{
  "cells": [
    {
      "cell_type": "code",
      "execution_count": 1,
      "metadata": {
        "dotnet_interactive": {
          "language": "csharp"
        }
      },
      "source": [
        "#i \"nuget:C:\\Code\\GuitarAlchemist\\GA\\nuget\"\n",
        "#r \"nuget:GuitarAlchemist.GA.Interactive.LocalNuGet,*-*\""
      ],
      "outputs": [
        {
          "output_type": "execute_result",
          "data": {
            "text/html": "<div><div><strong>Restore sources</strong><ul><li><span>C:\\Code\\GuitarAlchemist\\GA\\nuget</span></li></ul></div><div></div><div><strong>Installed Packages</strong><ul><li><span>GuitarAlchemist.GA.Interactive.LocalNuGet, 2022.12.5.1903</span></li></ul></div></div>"
          },
          "execution_count": 1,
          "metadata": {}
        },
        {
          "output_type": "execute_result",
          "data": {
            "text/markdown": "Loading extensions from `GA.InteractiveExtension.dll`"
          },
          "execution_count": 1,
          "metadata": {}
        },
        {
          "output_type": "execute_result",
          "data": {
            "text/html": "<pre style=\"font-family: monospace\">   ____       _ _                  _    _      _                    _     _   \r\n  / ___|_   _(_) |_ __ _ _ __     / \\  | | ___| |__   ___ _ __ ___ (_)___| |_ \r\n | |  _| | | | | __/ _` | '__|   / _ \\ | |/ __| '_ \\ / _ \\ '_ ` _ \\| / __| __|\r\n | |_| | |_| | | || (_| | |     / ___ \\| | (__| | | |  __/ | | | | | \\__ \\ |_ \r\n  \\____|\\__,_|_|\\__\\__,_|_|    /_/   \\_\\_|\\___|_| |_|\\___|_| |_| |_|_|___/\\__|\r\n                                                                              \r\n</pre>"
          },
          "execution_count": 1,
          "metadata": {}
        },
        {
          "output_type": "execute_result",
          "data": {
            "text/html": "<script type=\"text/javascript\">\r\n    const cacheBuster = 'cacheBuster=90579a291de4495d8f8fef50136f2d97';\r\n    const id = '973139dab97a4157825317b8a458c0c5';\r\n    const libName = 'mermaid';\r\n    const libVersion = '9.1.7';\r\n    const libUri = 'https://cdn.jsdelivr.net/npm/mermaid@9.1.7/dist/mermaid.min';\r\n    const libMarkup = `    graph TD\r\n    A[Client] --> B[Load Balancer]\r\n    B --> C[Server01]\r\n    B --> D[Server02]`;\r\n\r\n    const renderTarget = document.getElementById(id);\r\n\r\n    const requireJsConfig = {\r\n        'paths': {\r\n            'context': libVersion,\r\n            'libUri': libUri,\r\n            'urlArgs': cacheBuster\r\n        }\r\n    };\r\n\r\n    // ensure `require` is available globally\r\n    function installRequireScript(onload) {\r\n        const result = (typeof (window.require) !== typeof (Function)) || (typeof (window.require.config) !== typeof (Function));\r\n        if ((typeof (window.require) !== typeof (Function)) || (typeof (window.require.config) !== typeof (Function))) {\r\n            const requireScript = document.createElement('script');\r\n            requireScript.setAttribute('src', 'https://cdnjs.cloudflare.com/ajax/libs/require.js/2.3.6/require.min.js');\r\n            requireScript.setAttribute('type', 'text/javascript');\r\n\r\n            requireScript.onload = onload;\r\n            document.getElementsByTagName('head')[0].appendChild(requireScript);\r\n        }\r\n\r\n        return result;\r\n    };\r\n\r\n    const libRender = (lib) => lib.mermaidAPI.render(`${libName}_${id}`, libMarkup, g => renderTarget.innerHTML = g);\r\n\r\n    const loadAndRender = () => {\r\n        (window.require.config(requireJsConfig) || window.require)(\r\n            ['libUri'],\r\n            (lib) => { libRender(lib) },\r\n            (error) => console.log(error));\r\n    };\r\n\r\n    if (!installRequireScript(loadAndRender)) loadAndRender();\r\n</script>\r\n\r\n<div id=\"973139dab97a4157825317b8a458c0c5\" style=\"background-color: white\"></div>"
          },
          "execution_count": 1,
          "metadata": {}
        },
        {
          "output_type": "execute_result",
          "data": {
            "text/html": "<div id=\"draw-shapes\" style=\"height: 100px; width: 100px\"></div>\r\n\r\n<script type=\"module\">\r\n    import Two from 'https://cdn.skypack.dev/two.js@latest';\r\n\r\n    var elem = document.getElementById('draw-shapes');\r\n    var two = new Two({ fitted: true }).appendTo(elem);\r\n\r\n    var circle = two.makeCircle(400, 250, 75);\r\n    circle.fill = 'navy';\r\n    circle.noStroke();\r\n\r\n    let group = two.makeGroup(circle);\r\n\r\n    two.update();\r\n</script>"
          },
          "execution_count": 1,
          "metadata": {}
        },
        {
          "output_type": "execute_result",
          "data": {
            "text/html": "<div id=\"draw-shapes\" style=\"height: 100px; width: 100px\"></div>\r\n\r\n<script type=\"module\">\r\n    import Two from 'https://cdn.skypack.dev/two.js@latest';\r\n\r\n    var elem = document.getElementById('draw-shapes');\r\n    var two = new Two({ fitted: true }).appendTo(elem);\r\n\r\n    var circle = two.makeCircle(400, 250, 75);\r\n    circle.fill = 'navy';\r\n    circle.noStroke();\r\n\r\n    let group = two.makeGroup(circle);\r\n\r\n    two.update();\r\n</script>"
          },
          "execution_count": 1,
          "metadata": {}
        },
        {
          "output_type": "execute_result",
          "data": {
            "text/html": "<details>\r\n    <summary>\r\n        Renders Guitar Alchemist objects in dotnet-interactive notebooks\r\n        (78 formatters registered)\r\n    </summary>\r\n    <p>GA.Business.Core.Tonal.KeyMode</p><p>GA.Business.Core.Tonal.KeySignature</p><p>GA.Business.Core.Tonal.Primitives.HarmonicMinorScaleDegree</p><p>GA.Business.Core.Tonal.Primitives.MajorPentatonicScaleDegree</p><p>GA.Business.Core.Tonal.Primitives.MajorScaleDegree</p><p>GA.Business.Core.Tonal.Primitives.MelodicMinorScaleDegree</p><p>GA.Business.Core.Tonal.Primitives.NaturalMinorScaleDegree</p><p>GA.Business.Core.Tonal.Primitives.ScaleDegreeFunction</p><p>GA.Business.Core.Tonal.Modes.HarmonicMinorMode</p><p>GA.Business.Core.Tonal.Modes.MajorPentatonicMode</p><p>GA.Business.Core.Tonal.Modes.MajorScaleMode</p><p>GA.Business.Core.Tonal.Modes.MelodicMinorMode</p><p>GA.Business.Core.Tonal.Modes.NaturalMinorMode</p><p>GA.Business.Core.Scales.Scale</p><p>GA.Business.Core.Notes.AccidentedNotePair</p><p>GA.Business.Core.Notes.NaturalNotePair</p><p>GA.Business.Core.Notes.PitchCollection</p><p>GA.Business.Core.Notes.PitchCollectionParseException</p><p>GA.Business.Core.Notes.Primitives.FlatAccidental</p><p>GA.Business.Core.Notes.Primitives.MidiNote</p><p>GA.Business.Core.Notes.Primitives.NaturalNote</p><p>GA.Business.Core.Notes.Primitives.SharpAccidental</p><p>GA.Business.Core.Intervals.ModeCompoundInterval</p><p>GA.Business.Core.Intervals.ModeFormula</p><p>GA.Business.Core.Intervals.ModeInterval</p><p>GA.Business.Core.Intervals.Octave</p><p>GA.Business.Core.Intervals.Primitives.Accidental</p><p>GA.Business.Core.Intervals.Primitives.AccidentalKind</p><p>GA.Business.Core.Intervals.Primitives.CompoundIntervalSize</p><p>GA.Business.Core.Intervals.Primitives.IntervalQuality</p><p>GA.Business.Core.Intervals.Primitives.IntervalSize</p><p>GA.Business.Core.Intervals.Primitives.IntervalSizeConsonance</p><p>GA.Business.Core.Intervals.Primitives.Semitones</p><p>GA.Business.Core.Fretboard.Fretboard</p><p>GA.Business.Core.Fretboard.Tuning</p><p>GA.Business.Core.Fretboard.Primitives.Fret</p><p>GA.Business.Core.Fretboard.Primitives.RelativeFret</p><p>GA.Business.Core.Fretboard.Primitives.Str</p><p>GA.Business.Core.Fretboard.Positions.MutedPositionCollection</p><p>GA.Business.Core.Fretboard.Positions.PlayedPositionCollection</p><p>GA.Business.Core.Fretboard.Positions.PositionCollection</p><p>GA.Business.Core.Fretboard.Positions.PositionLocation</p><p>GA.Business.Core.Fretboard.Positions.PositionLocationSet</p><p>GA.Business.Core.Fretboard.Positions.RelativePositionLocation</p><p>GA.Business.Core.Fretboard.Fingering.Finger</p><p>GA.Business.Core.Fretboard.Fingering.FingerCount</p><p>GA.Business.Core.Fretboard.Engine.KeyFretPositions</p><p>GA.Business.Core.Fretboard.Engine.KeyPosition</p><p>GA.Business.Core.Fretboard.Engine.KeyPositionCollection</p><p>GA.Business.Core.Atonal.IntervalClassVector</p><p>GA.Business.Core.Atonal.ModalFamily</p><p>GA.Business.Core.Atonal.PitchClass</p><p>GA.Business.Core.Atonal.PitchClassSet</p><p>GA.Business.Core.Atonal.PitchClassSetOrder</p><p>GA.Business.Core.Atonal.Primitives.Cardinality</p><p>GA.Business.Core.Atonal.Primitives.IntervalClass</p><p>GA.Business.Core.Atonal.Primitives.PitchClassSetIdentity</p><p>GA.Business.Core.Tonal.Key+Major</p><p>GA.Business.Core.Tonal.Key+Minor</p><p>GA.Business.Core.Scales.Scale+LazyScaleIntervals</p><p>GA.Business.Core.Notes.Note+Chromatic</p><p>GA.Business.Core.Notes.Note+SharpKey</p><p>GA.Business.Core.Notes.Note+FlatKey</p><p>GA.Business.Core.Notes.Note+AccidentedNote</p><p>GA.Business.Core.Notes.Pitch+Chromatic</p><p>GA.Business.Core.Notes.Pitch+Sharp</p><p>GA.Business.Core.Notes.Pitch+Flat</p><p>GA.Business.Core.Intervals.Interval+Chromatic</p><p>GA.Business.Core.Intervals.Interval+Simple</p><p>GA.Business.Core.Intervals.Interval+Compound</p><p>GA.Business.Core.Fretboard.FretboardConsoleRenderer+Options</p><p>GA.Business.Core.Fretboard.FretboardTextWriterRenderer+Options</p><p>GA.Business.Core.Fretboard.Primitives.Position+Muted</p><p>GA.Business.Core.Fretboard.Primitives.Position+Played</p><p>GA.Business.Core.Fretboard.Primitives.RelativeFretVector+Normalized</p><p>GA.Business.Core.Fretboard.Primitives.RelativeFretVector+Translated</p><p>GA.Business.Core.Fretboard.Positions.VariationsRelativeFretVectorFactory+NormalizedTranslations</p><p>GA.Business.Core.Notes.Note+AccidentedNote+AllNotes</p>\r\n</details>    "
          },
          "execution_count": 1,
          "metadata": {}
        }
      ]
    },
    {
      "cell_type": "code",
      "execution_count": 1,
      "metadata": {
        "dotnet_interactive": {
          "language": "csharp"
        }
      },
      "source": [
        "using GA.Business.Core.Fretboard;\n",
        "\n",
        "/*\n",
        "foreach\t(var key in Key.GetAll())\n",
        "{\n",
        "\tConsole.WriteLine(key.ToString());\n",
        "\n",
        "    var notes = key.GetNotes();\n",
        "    Console.WriteLine($\"Notes = {notes}\");\n",
        "\tConsole.WriteLine(\"\");\n",
        "}\n",
        "*/\n",
        "\n",
        "// --------------------------------------------------------------------\n",
        "\n",
        "var fretboard = Fretboard.Default;\n",
        "var aa = fretboard.RelativePositions;\n",
        "aa\n",
        "\n",
        ""
      ],
      "outputs": [
        {
          "output_type": "execute_result",
          "data": {
            "text/plain": "Done!\r\n"
          },
          "execution_count": 1,
          "metadata": {}
        }
      ]
    }
  ],
  "metadata": {
    "kernelspec": {
      "display_name": ".NET (C#)",
      "language": "C#",
      "name": ".net-csharp"
    },
    "language_info": {
      "file_extension": ".cs",
      "mimetype": "text/x-csharp",
      "name": "C#",
      "pygments_lexer": "csharp",
      "version": "8.0"
    }
  },
  "nbformat": 4,
  "nbformat_minor": 4
}